{
 "cells": [
  {
   "cell_type": "code",
   "execution_count": 1,
   "metadata": {},
   "outputs": [],
   "source": [
    "import pandas as pd\n",
    "import os\n",
    "import numpy as np\n",
    "from datetime import datetime"
   ]
  },
  {
   "cell_type": "code",
   "execution_count": 5,
   "metadata": {},
   "outputs": [
    {
     "name": "stdout",
     "output_type": "stream",
     "text": [
      "To load your datset please answer the  following questions.\n",
      "Enter the extension of your dataset (csv, xlsx)xlsx\n",
      "Enter the name of your file: data.xlsx\n",
      "Enter the name of the sheet: data\n",
      "The dataset has been loaded, the first five rows are: \n",
      "   Unique_Index                        Seminar           Time_UT  \\\n",
      "0             0  CMU Core Model Theory Seminar  09/13/2022 17:30   \n",
      "1             1              CMU Logic Seminar   9/13/2022 19:30   \n",
      "2             2         Helsinki Logic Seminar   9/14/2022 11:00   \n",
      "3             3            CUNY Logic Workshop   9/16/2022 18:00   \n",
      "4             4  CMU Core Model Theory Seminar   9/20/2022 17:30   \n",
      "\n",
      "                                          Time_local  \\\n",
      "0  Tuesday, 13 September, 1:30 – 3:00pm Pittsburg...   \n",
      "1  Tuesday, 13 September,  3:30 – 4:30pm Pittsbur...   \n",
      "2  Wednesday, 14 September, 14:00 – 16:00 Helsink...   \n",
      "3  Friday, 16 September, 2:00 – 2:30 New York tim...   \n",
      "4  Tuesday, 20 September, 1:30 – 3:00pm Pittsburg...   \n",
      "\n",
      "                                             Speaker  \\\n",
      "0               Nam Trang, University of North Texas   \n",
      "1           Rick Statman, Carnegie Mellon University   \n",
      "2  Andres Villaveces, Universidad Nacional de Col...   \n",
      "3                                 Gunter Fuchs, CUNY   \n",
      "4               Nam Trang, University of North Texas   \n",
      "\n",
      "                                               Title  \\\n",
      "0  Core model induction toolbox and examples, part 1   \n",
      "1                                     Cayley Monoids   \n",
      "2                                                Tba   \n",
      "3                           The blurry HOD hierarchy   \n",
      "4  Core model induction toolbox and examples, part 2   \n",
      "\n",
      "                                            Abstract  \\\n",
      "0  This is the abstract for the first three to fo...   \n",
      "1  Everyone is familiar with Cayley’s regular rep...   \n",
      "2                                                Tba   \n",
      "3  Classically, an object is ordinal definable if...   \n",
      "4  This is the abstract for the first three to fo...   \n",
      "\n",
      "                                         Information Repository  \n",
      "0  Please contact Ernest Schimmerling in advance ...        NaN  \n",
      "1                           See the seminar webpage.        NaN  \n",
      "2  The talk will take plce in hybrid mode. Please...        NaN  \n",
      "3  The talk will take place in hybrid mode. Pleas...        NaN  \n",
      "4  Please contact Ernest Schimmerling in advance ...        NaN  \n"
     ]
    }
   ],
   "source": [
    "print(\"To load your datset please answer the  following questions.\")\n",
    "extension=input(\"Enter the extension of your dataset (csv, xlsx)\")\n",
    "name_file=input(\"Enter the name of your file: \")\n",
    "\n",
    "if extension==\"csv\":\n",
    "    separ=input(\"Enter the separation symbol of your data: \")\n",
    "    df_to_clean = pd.read_csv(name_file, sep=separ)\n",
    "    \n",
    "if extension==\"xlsx\":\n",
    "    name_sheet=input(\"Enter the name of the sheet: \")\n",
    "    df_to_clean = pd.read_excel(name_file, sheet_name=name_sheet)\n",
    "    \n",
    "print(\"The dataset has been loaded, the first five rows are: \")\n",
    "print(df_to_clean.head())"
   ]
  },
  {
   "cell_type": "code",
   "execution_count": 4,
   "metadata": {},
   "outputs": [
    {
     "name": "stdout",
     "output_type": "stream",
     "text": [
      "Your dataset contains the following columns: Datum/Zeit, Produkt#, Produktname, Menge, Einzelpreis, Gesamtpreis.\n"
     ]
    }
   ],
   "source": [
    "data_columns=df_to_clean.columns\n",
    "info_data=\"Your dataset contains the following columns:\"\n",
    "counter=0\n",
    "space=\" \"\n",
    "for column_info in data_columns:\n",
    "    if counter==1:\n",
    "        space=\", \"\n",
    "    info_data=info_data + space + column_info\n",
    "    counter=1\n",
    "print(info_data+\".\")"
   ]
  },
  {
   "cell_type": "code",
   "execution_count": 5,
   "metadata": {},
   "outputs": [
    {
     "name": "stdout",
     "output_type": "stream",
     "text": [
      "The column  Datum/Zeit has 180721 values and 0 missing values\n",
      "\n",
      "The column  Produkt# has 180721 values and 0 missing values\n",
      "\n",
      "The column  Produktname has 180720 values and 1 missing values\n",
      "\n",
      "The column  Menge has 180721 values and 0 missing values\n",
      "\n",
      "The column  Einzelpreis has 180721 values and 0 missing values\n",
      "\n",
      "The column  Gesamtpreis has 180721 values and 0 missing values\n",
      "\n"
     ]
    }
   ],
   "source": [
    "for column in data_columns:\n",
    "    print(\"The column \", column, \"has\", len(df_to_clean[column])-\n",
    "          len(df_to_clean[df_to_clean[column].isnull()]), \"values and\",\n",
    "         len(df_to_clean[df_to_clean[column].isnull()]), \"missing values\")\n",
    "    print()"
   ]
  },
  {
   "cell_type": "code",
   "execution_count": 6,
   "metadata": {},
   "outputs": [
    {
     "name": "stdout",
     "output_type": "stream",
     "text": [
      "The missing values are in the rows:\n",
      "                Datum/Zeit  Produkt# Produktname  Menge  Einzelpreis  \\\n",
      "90150  2019:03:19:17:46:43      1091         NaN    1.0          2.5   \n",
      "\n",
      "       Gesamtpreis  \n",
      "90150          2.5  \n"
     ]
    }
   ],
   "source": [
    "print(\"The missing values are in the rows:\")\n",
    "for column in data_columns:\n",
    "    if len(df_to_clean[df_to_clean[column].isnull()])==1:\n",
    "        print(df_to_clean[df_to_clean[column].isnull()])"
   ]
  },
  {
   "cell_type": "code",
   "execution_count": 7,
   "metadata": {},
   "outputs": [
    {
     "name": "stdout",
     "output_type": "stream",
     "text": [
      "The column  Datum/Zeit has type object\n",
      "\n",
      "The column  Produkt# has type int64\n",
      "\n",
      "The column  Produktname has type object\n",
      "\n",
      "The column  Menge has type float64\n",
      "\n",
      "The column  Einzelpreis has type float64\n",
      "\n",
      "The column  Gesamtpreis has type float64\n",
      "\n"
     ]
    }
   ],
   "source": [
    "types_columns=df_to_clean.dtypes\n",
    "for column in data_columns:\n",
    "    print(\"The column \", column, \"has type\", df_to_clean.dtypes[column])\n",
    "    print()"
   ]
  },
  {
   "cell_type": "code",
   "execution_count": 8,
   "metadata": {},
   "outputs": [
    {
     "name": "stdout",
     "output_type": "stream",
     "text": [
      "The following are the first 20 rows of your dataset:\n",
      "             Datum/Zeit  Produkt#                     Produktname  Menge  \\\n",
      "0   2018:03:01:17:06:54      1063            BIEROL PADAWAN  0.30    1.0   \n",
      "1   2018:03:01:17:11:49      1155           PINZGA ZWICKL PITCHER    1.0   \n",
      "2   2018:03:01:17:11:50      1801        Flammkuchen Traditionell    1.0   \n",
      "3   2018:03:01:17:11:58      1803        Flammkuchen Vegetarisch     1.0   \n",
      "4   2018:03:01:17:16:06      1018  FRAU GRUBER GREEN IS LORD 0.30    1.0   \n",
      "5   2018:03:01:17:16:09      1023           WILDBEER TEPACHE 0.30    1.0   \n",
      "6   2018:03:01:17:18:18      1153              PINZGA ZWICKL 0.30    1.0   \n",
      "7   2018:03:01:17:18:49      1018  FRAU GRUBER GREEN IS LORD 0.30    2.0   \n",
      "8   2018:03:01:17:26:33      1033                 BIEROL MPA 0.30    1.0   \n",
      "9   2018:03:01:17:26:33      1123       SCHLÃ„GL ZWICKL BOCK 0.30    1.0   \n",
      "10  2018:03:01:17:34:24      1054           BIEROL AZTEC ALE 0.50    1.0   \n",
      "11  2018:03:01:17:35:27      1018  FRAU GRUBER GREEN IS LORD 0.30    1.0   \n",
      "12  2018:03:01:17:37:11      1092       WILDBEER MILLIONAIRE 0.20    1.0   \n",
      "13  2018:03:01:17:37:15      1173         BATZENBRÃ„U PORTER 0.30    1.0   \n",
      "14  2018:03:01:17:39:04      1173         BATZENBRÃ„U PORTER 0.30    1.0   \n",
      "15  2018:03:01:17:39:18      1073      FREIGEIST ÃœNDERWEÃ„R 0.30    1.0   \n",
      "16  2018:03:01:17:39:19      1083     HOFSTETTNER GRANITBOCK 0.30    1.0   \n",
      "17  2018:03:01:17:53:37      1092       WILDBEER MILLIONAIRE 0.20    1.0   \n",
      "18  2018:03:01:18:01:09      1154              PINZGA ZWICKL 0.50    1.0   \n",
      "19  2018:03:01:18:02:35      1043      GÃ„NSTALLER MANDARINA 0.30    1.0   \n",
      "\n",
      "    Einzelpreis  Gesamtpreis  \n",
      "0           4.3          4.3  \n",
      "1          13.2         13.2  \n",
      "2           6.8          6.8  \n",
      "3           6.8          6.8  \n",
      "4           4.8          4.8  \n",
      "5           5.8          5.8  \n",
      "6           3.3          3.3  \n",
      "7           4.8          9.6  \n",
      "8           4.3          4.3  \n",
      "9           3.7          3.7  \n",
      "10          6.8          6.8  \n",
      "11          4.8          4.8  \n",
      "12          3.2          3.2  \n",
      "13          4.3          4.3  \n",
      "14          4.3          4.3  \n",
      "15          5.8          5.8  \n",
      "16          4.3          4.3  \n",
      "17          3.2          3.2  \n",
      "18          4.4          4.4  \n",
      "19          4.3          4.3  \n"
     ]
    }
   ],
   "source": [
    "print(\"The following are the first 20 rows of your dataset:\")\n",
    "print(df_to_clean.head(20))"
   ]
  },
  {
   "cell_type": "code",
   "execution_count": 9,
   "metadata": {},
   "outputs": [
    {
     "name": "stdout",
     "output_type": "stream",
     "text": [
      "Is there a problem with special characters in the words? For example 'Ä' appears as 'Ã„' (y/n):y\n",
      "Please enter an example the error, as it appears in the previous overview.ÃœNDERWEÃ„R\n",
      "Please enter the example without error.ÜNDERWEÄR\n",
      "The following codes write the example word correct. Encoding = cp1252 , decoding = utf_8 , example word =  ÜNDERWEÄR\n",
      "\n",
      "The following codes write the example word correct. Encoding = cp1252 , decoding = utf_8_sig , example word =  ÜNDERWEÄR\n",
      "\n",
      "The following codes write the example word correct. Encoding = cp1254 , decoding = utf_8 , example word =  ÜNDERWEÄR\n",
      "\n",
      "The following codes write the example word correct. Encoding = cp1254 , decoding = utf_8_sig , example word =  ÜNDERWEÄR\n",
      "\n",
      "Please choose the right endocing and decoding from the following list:\n",
      "Enter encoding: cp1252\n",
      "Enter decoding: utf_8\n"
     ]
    }
   ],
   "source": [
    "codecs_options=[\"ascii\", \"big5\", \"big5hkscs\", \"cp037\", \"cp273\", \"cp424\", \"cp437\",\n",
    "               \"cp500\", \"cp720\", \"cp737\", \"cp775\", \"cp850\", \"cp852\", \"cp855\", \"cp856\",\n",
    "                \"cp857\", \"cp858\", \"cp860\", \"cp861\", \"cp862\", \"cp863\", \"cp864\", \"cp865\", \"cp866\",\n",
    "               \"cp869\", \"cp874\", \"cp875\", \"cp932\", \"cp949\", \"cp950\", \"cp1006\", \"cp1026\", \"cp1125\",\n",
    "               \"cp1140\", \"cp1250\", \"cp1251\", \"cp1252\", \"cp1253\", \"cp1254\", \"cp1255\", \"cp1256\", \"cp1257\",\n",
    "               \"cp1258\", \"euc_jp\", \"euc_jis_2004\", \"euc_jisx0213\", \"euc_kr\", \"gb2312\", \"gbk\", \"gb18030\", \"hz\",\n",
    "                \"iso2022_jp\", \"iso2022_jp_1\", \"iso2022_jp_2\", \"iso2022_jp_2004\", \"iso2022_jp_3\", \"iso2022_jp_ext\",\n",
    "               \"iso2022_kr\", \"latin_1\", \"iso8859_2\", \"iso8859_3\", \"iso8859_4\", \"iso8859_5\", \"iso8859_6\",\n",
    "               \"iso8859_7\", \"iso8859_8\", \"iso8859_9\", \"iso8859_10\", \"iso8859_11\", \"iso8859_13\", \"iso8859_14\", \n",
    "                \"iso8859_15\", \"iso8859_16\", \"johab\", \"koi8_r\", \"koi8_t\", \"koi8_u\", \"kz1048\", \"mac_cyrillic\",\n",
    "               \"mac_greek\", \"mac_iceland\", \"mac_latin2\", \"mac_roman\", \"mac_turkish\", \"ptcp154\", \"shift_jis\",\n",
    "               \"shift_jis_2004\", \"shift_jisx0213\", \"utf_32\", \"utf_32_be\", \"utf_32_le\", \"utf_16\", \"utf_16_be\",\n",
    "               \"utf_16_le\", \"utf_7\", \"utf_8\", \"utf_8_sig\"]\n",
    "encoding_error=input(\"Is there a problem with special characters in the words? For example 'Ä' appears as 'Ã„' (y/n):\")\n",
    "if encoding_error==\"y\":\n",
    "    example_word=input(\"Please enter an example the error, as it appears in the previous overview.\")\n",
    "    example_word_right=input(\"Please enter the example without error.\")\n",
    "    for option_1 in codecs_options:\n",
    "        for option_2 in codecs_options:\n",
    "            new_example_word=example_word.encode(option_1, 'ignore')\n",
    "            new_encoding_word=new_example_word.decode(option_2, 'ignore')\n",
    "            if new_encoding_word==example_word_right:\n",
    "                print(\"The following codes write the example word correct. Encoding =\",\n",
    "                      option_1, \", decoding =\", option_2, \", example word = \", new_encoding_word)\n",
    "                print()\n",
    "    print(\"Please choose the right endocing and decoding from the following list:\")\n",
    "    encoding=input(\"Enter encoding: \")\n",
    "    decoding=input(\"Enter decoding: \")"
   ]
  },
  {
   "cell_type": "code",
   "execution_count": 10,
   "metadata": {},
   "outputs": [
    {
     "name": "stdout",
     "output_type": "stream",
     "text": [
      "Enter the column with the encoding error: Produktname\n"
     ]
    }
   ],
   "source": [
    "column_error=input(\"Enter the column with the encoding error: \")\n",
    "no_typo_produkt=[]\n",
    "for produkt_element in range(len(df_to_clean[column_error])):\n",
    "    produkt_typo=df_to_clean[column_error][produkt_element]\n",
    "    \n",
    "    if type(produkt_typo)==str:\n",
    "        newstr=produkt_typo.encode(encoding, 'ignore')\n",
    "        produkt_clean=newstr.decode(decoding, 'ignore')\n",
    "        \n",
    "    else:\n",
    "        produkt_clean=produkt_typo\n",
    "        \n",
    "    no_typo_produkt.append(produkt_clean)"
   ]
  },
  {
   "cell_type": "code",
   "execution_count": 12,
   "metadata": {},
   "outputs": [],
   "source": [
    "df_no_typos=pd.DataFrame(columns=data_columns) \n",
    "for column in data_columns:\n",
    "    if column==column_error:\n",
    "        df_no_typos[column]=no_typo_produkt\n",
    "    else:\n",
    "        df_no_typos[column]=df_to_clean[column]"
   ]
  },
  {
   "cell_type": "code",
   "execution_count": 13,
   "metadata": {},
   "outputs": [
    {
     "name": "stdout",
     "output_type": "stream",
     "text": [
      "The following are the first 20 rows of your dataset with the new encoding:\n",
      "             Datum/Zeit  Produkt#                     Produktname  Menge  \\\n",
      "0   2018:03:01:17:06:54      1063            BIEROL PADAWAN  0.30    1.0   \n",
      "1   2018:03:01:17:11:49      1155           PINZGA ZWICKL PITCHER    1.0   \n",
      "2   2018:03:01:17:11:50      1801        Flammkuchen Traditionell    1.0   \n",
      "3   2018:03:01:17:11:58      1803        Flammkuchen Vegetarisch     1.0   \n",
      "4   2018:03:01:17:16:06      1018  FRAU GRUBER GREEN IS LORD 0.30    1.0   \n",
      "5   2018:03:01:17:16:09      1023           WILDBEER TEPACHE 0.30    1.0   \n",
      "6   2018:03:01:17:18:18      1153              PINZGA ZWICKL 0.30    1.0   \n",
      "7   2018:03:01:17:18:49      1018  FRAU GRUBER GREEN IS LORD 0.30    2.0   \n",
      "8   2018:03:01:17:26:33      1033                 BIEROL MPA 0.30    1.0   \n",
      "9   2018:03:01:17:26:33      1123        SCHLÄGL ZWICKL BOCK 0.30    1.0   \n",
      "10  2018:03:01:17:34:24      1054           BIEROL AZTEC ALE 0.50    1.0   \n",
      "11  2018:03:01:17:35:27      1018  FRAU GRUBER GREEN IS LORD 0.30    1.0   \n",
      "12  2018:03:01:17:37:11      1092       WILDBEER MILLIONAIRE 0.20    1.0   \n",
      "13  2018:03:01:17:37:15      1173          BATZENBRÄU PORTER 0.30    1.0   \n",
      "14  2018:03:01:17:39:04      1173          BATZENBRÄU PORTER 0.30    1.0   \n",
      "15  2018:03:01:17:39:18      1073        FREIGEIST ÜNDERWEÄR 0.30    1.0   \n",
      "16  2018:03:01:17:39:19      1083     HOFSTETTNER GRANITBOCK 0.30    1.0   \n",
      "17  2018:03:01:17:53:37      1092       WILDBEER MILLIONAIRE 0.20    1.0   \n",
      "18  2018:03:01:18:01:09      1154              PINZGA ZWICKL 0.50    1.0   \n",
      "19  2018:03:01:18:02:35      1043       GÄNSTALLER MANDARINA 0.30    1.0   \n",
      "\n",
      "    Einzelpreis  Gesamtpreis  \n",
      "0           4.3          4.3  \n",
      "1          13.2         13.2  \n",
      "2           6.8          6.8  \n",
      "3           6.8          6.8  \n",
      "4           4.8          4.8  \n",
      "5           5.8          5.8  \n",
      "6           3.3          3.3  \n",
      "7           4.8          9.6  \n",
      "8           4.3          4.3  \n",
      "9           3.7          3.7  \n",
      "10          6.8          6.8  \n",
      "11          4.8          4.8  \n",
      "12          3.2          3.2  \n",
      "13          4.3          4.3  \n",
      "14          4.3          4.3  \n",
      "15          5.8          5.8  \n",
      "16          4.3          4.3  \n",
      "17          3.2          3.2  \n",
      "18          4.4          4.4  \n",
      "19          4.3          4.3  \n"
     ]
    }
   ],
   "source": [
    "print(\"The following are the first 20 rows of your dataset with the new encoding:\")\n",
    "print(df_no_typos.head(20))"
   ]
  },
  {
   "cell_type": "code",
   "execution_count": 31,
   "metadata": {},
   "outputs": [
    {
     "name": "stdout",
     "output_type": "stream",
     "text": [
      "Enter the name for the new file: dfsasf\n"
     ]
    }
   ],
   "source": [
    "name_export_file=input(\"Enter the name for the new file: \")\n",
    "name_export_file=name_export_file + \".csv\"\n",
    "df_no_typos.to_csv(name_export_file, index = False)"
   ]
  },
  {
   "cell_type": "code",
   "execution_count": 37,
   "metadata": {},
   "outputs": [
    {
     "name": "stdout",
     "output_type": "stream",
     "text": [
      "Enter the name for the new file: ghd\n"
     ]
    },
    {
     "ename": "KeyboardInterrupt",
     "evalue": "",
     "output_type": "error",
     "traceback": [
      "\u001b[0;31m---------------------------------------------------------------------------\u001b[0m",
      "\u001b[0;31mKeyboardInterrupt\u001b[0m                         Traceback (most recent call last)",
      "\u001b[0;32m/tmp/ipykernel_3604/2665971979.py\u001b[0m in \u001b[0;36m<module>\u001b[0;34m\u001b[0m\n\u001b[1;32m      2\u001b[0m \u001b[0mname_export_file\u001b[0m\u001b[0;34m=\u001b[0m\u001b[0mname_export_file\u001b[0m \u001b[0;34m+\u001b[0m \u001b[0;34m\".xlsx\"\u001b[0m\u001b[0;34m\u001b[0m\u001b[0;34m\u001b[0m\u001b[0m\n\u001b[1;32m      3\u001b[0m \u001b[0;31m#df_to_clean.to_excel(name_export_file, index = False)\u001b[0m\u001b[0;34m\u001b[0m\u001b[0;34m\u001b[0m\u001b[0m\n\u001b[0;32m----> 4\u001b[0;31m \u001b[0mdf_to_clean\u001b[0m\u001b[0;34m.\u001b[0m\u001b[0mto_excel\u001b[0m\u001b[0;34m(\u001b[0m\u001b[0;34mr'/home/anu/Documents/aeddix/File Name.xlsx'\u001b[0m\u001b[0;34m,\u001b[0m \u001b[0mindex\u001b[0m \u001b[0;34m=\u001b[0m \u001b[0;32mFalse\u001b[0m\u001b[0;34m)\u001b[0m\u001b[0;34m\u001b[0m\u001b[0;34m\u001b[0m\u001b[0m\n\u001b[0m",
      "\u001b[0;32m/usr/lib/python3.9/site-packages/pandas/core/generic.py\u001b[0m in \u001b[0;36mto_excel\u001b[0;34m(self, excel_writer, sheet_name, na_rep, float_format, columns, header, index, index_label, startrow, startcol, engine, merge_cells, encoding, inf_rep, verbose, freeze_panes, storage_options)\u001b[0m\n\u001b[1;32m   2282\u001b[0m             \u001b[0minf_rep\u001b[0m\u001b[0;34m=\u001b[0m\u001b[0minf_rep\u001b[0m\u001b[0;34m,\u001b[0m\u001b[0;34m\u001b[0m\u001b[0;34m\u001b[0m\u001b[0m\n\u001b[1;32m   2283\u001b[0m         )\n\u001b[0;32m-> 2284\u001b[0;31m         formatter.write(\n\u001b[0m\u001b[1;32m   2285\u001b[0m             \u001b[0mexcel_writer\u001b[0m\u001b[0;34m,\u001b[0m\u001b[0;34m\u001b[0m\u001b[0;34m\u001b[0m\u001b[0m\n\u001b[1;32m   2286\u001b[0m             \u001b[0msheet_name\u001b[0m\u001b[0;34m=\u001b[0m\u001b[0msheet_name\u001b[0m\u001b[0;34m,\u001b[0m\u001b[0;34m\u001b[0m\u001b[0;34m\u001b[0m\u001b[0m\n",
      "\u001b[0;32m/usr/lib/python3.9/site-packages/pandas/io/formats/excel.py\u001b[0m in \u001b[0;36mwrite\u001b[0;34m(self, writer, sheet_name, startrow, startcol, freeze_panes, engine, storage_options)\u001b[0m\n\u001b[1;32m    848\u001b[0m             \u001b[0;31m# make sure to close opened file handles\u001b[0m\u001b[0;34m\u001b[0m\u001b[0;34m\u001b[0m\u001b[0m\n\u001b[1;32m    849\u001b[0m             \u001b[0;32mif\u001b[0m \u001b[0mneed_save\u001b[0m\u001b[0;34m:\u001b[0m\u001b[0;34m\u001b[0m\u001b[0;34m\u001b[0m\u001b[0m\n\u001b[0;32m--> 850\u001b[0;31m                 \u001b[0mwriter\u001b[0m\u001b[0;34m.\u001b[0m\u001b[0mclose\u001b[0m\u001b[0;34m(\u001b[0m\u001b[0;34m)\u001b[0m\u001b[0;34m\u001b[0m\u001b[0;34m\u001b[0m\u001b[0m\n\u001b[0m",
      "\u001b[0;32m/usr/lib/python3.9/site-packages/pandas/io/excel/_base.py\u001b[0m in \u001b[0;36mclose\u001b[0;34m(self)\u001b[0m\n\u001b[1;32m   1022\u001b[0m     \u001b[0;32mdef\u001b[0m \u001b[0mclose\u001b[0m\u001b[0;34m(\u001b[0m\u001b[0mself\u001b[0m\u001b[0;34m)\u001b[0m\u001b[0;34m:\u001b[0m\u001b[0;34m\u001b[0m\u001b[0;34m\u001b[0m\u001b[0m\n\u001b[1;32m   1023\u001b[0m         \u001b[0;34m\"\"\"synonym for save, to make it more file-like\"\"\"\u001b[0m\u001b[0;34m\u001b[0m\u001b[0;34m\u001b[0m\u001b[0m\n\u001b[0;32m-> 1024\u001b[0;31m         \u001b[0mcontent\u001b[0m \u001b[0;34m=\u001b[0m \u001b[0mself\u001b[0m\u001b[0;34m.\u001b[0m\u001b[0msave\u001b[0m\u001b[0;34m(\u001b[0m\u001b[0;34m)\u001b[0m\u001b[0;34m\u001b[0m\u001b[0;34m\u001b[0m\u001b[0m\n\u001b[0m\u001b[1;32m   1025\u001b[0m         \u001b[0mself\u001b[0m\u001b[0;34m.\u001b[0m\u001b[0mhandles\u001b[0m\u001b[0;34m.\u001b[0m\u001b[0mclose\u001b[0m\u001b[0;34m(\u001b[0m\u001b[0;34m)\u001b[0m\u001b[0;34m\u001b[0m\u001b[0;34m\u001b[0m\u001b[0m\n\u001b[1;32m   1026\u001b[0m         \u001b[0;32mreturn\u001b[0m \u001b[0mcontent\u001b[0m\u001b[0;34m\u001b[0m\u001b[0;34m\u001b[0m\u001b[0m\n",
      "\u001b[0;32m/usr/lib/python3.9/site-packages/pandas/io/excel/_openpyxl.py\u001b[0m in \u001b[0;36msave\u001b[0;34m(self)\u001b[0m\n\u001b[1;32m     78\u001b[0m         \u001b[0mSave\u001b[0m \u001b[0mworkbook\u001b[0m \u001b[0mto\u001b[0m \u001b[0mdisk\u001b[0m\u001b[0;34m.\u001b[0m\u001b[0;34m\u001b[0m\u001b[0;34m\u001b[0m\u001b[0m\n\u001b[1;32m     79\u001b[0m         \"\"\"\n\u001b[0;32m---> 80\u001b[0;31m         \u001b[0mself\u001b[0m\u001b[0;34m.\u001b[0m\u001b[0mbook\u001b[0m\u001b[0;34m.\u001b[0m\u001b[0msave\u001b[0m\u001b[0;34m(\u001b[0m\u001b[0mself\u001b[0m\u001b[0;34m.\u001b[0m\u001b[0mhandles\u001b[0m\u001b[0;34m.\u001b[0m\u001b[0mhandle\u001b[0m\u001b[0;34m)\u001b[0m\u001b[0;34m\u001b[0m\u001b[0;34m\u001b[0m\u001b[0m\n\u001b[0m\u001b[1;32m     81\u001b[0m         \u001b[0;32mif\u001b[0m \u001b[0;34m\"r+\"\u001b[0m \u001b[0;32min\u001b[0m \u001b[0mself\u001b[0m\u001b[0;34m.\u001b[0m\u001b[0mmode\u001b[0m \u001b[0;32mand\u001b[0m \u001b[0;32mnot\u001b[0m \u001b[0misinstance\u001b[0m\u001b[0;34m(\u001b[0m\u001b[0mself\u001b[0m\u001b[0;34m.\u001b[0m\u001b[0mhandles\u001b[0m\u001b[0;34m.\u001b[0m\u001b[0mhandle\u001b[0m\u001b[0;34m,\u001b[0m \u001b[0mmmap\u001b[0m\u001b[0;34m.\u001b[0m\u001b[0mmmap\u001b[0m\u001b[0;34m)\u001b[0m\u001b[0;34m:\u001b[0m\u001b[0;34m\u001b[0m\u001b[0;34m\u001b[0m\u001b[0m\n\u001b[1;32m     82\u001b[0m             \u001b[0;31m# truncate file to the written content\u001b[0m\u001b[0;34m\u001b[0m\u001b[0;34m\u001b[0m\u001b[0m\n",
      "\u001b[0;32m~/.local/lib/python3.9/site-packages/openpyxl/workbook/workbook.py\u001b[0m in \u001b[0;36msave\u001b[0;34m(self, filename)\u001b[0m\n\u001b[1;32m    405\u001b[0m         \u001b[0;32mif\u001b[0m \u001b[0mself\u001b[0m\u001b[0;34m.\u001b[0m\u001b[0mwrite_only\u001b[0m \u001b[0;32mand\u001b[0m \u001b[0;32mnot\u001b[0m \u001b[0mself\u001b[0m\u001b[0;34m.\u001b[0m\u001b[0mworksheets\u001b[0m\u001b[0;34m:\u001b[0m\u001b[0;34m\u001b[0m\u001b[0;34m\u001b[0m\u001b[0m\n\u001b[1;32m    406\u001b[0m             \u001b[0mself\u001b[0m\u001b[0;34m.\u001b[0m\u001b[0mcreate_sheet\u001b[0m\u001b[0;34m(\u001b[0m\u001b[0;34m)\u001b[0m\u001b[0;34m\u001b[0m\u001b[0;34m\u001b[0m\u001b[0m\n\u001b[0;32m--> 407\u001b[0;31m         \u001b[0msave_workbook\u001b[0m\u001b[0;34m(\u001b[0m\u001b[0mself\u001b[0m\u001b[0;34m,\u001b[0m \u001b[0mfilename\u001b[0m\u001b[0;34m)\u001b[0m\u001b[0;34m\u001b[0m\u001b[0;34m\u001b[0m\u001b[0m\n\u001b[0m\u001b[1;32m    408\u001b[0m \u001b[0;34m\u001b[0m\u001b[0m\n\u001b[1;32m    409\u001b[0m \u001b[0;34m\u001b[0m\u001b[0m\n",
      "\u001b[0;32m~/.local/lib/python3.9/site-packages/openpyxl/writer/excel.py\u001b[0m in \u001b[0;36msave_workbook\u001b[0;34m(workbook, filename)\u001b[0m\n\u001b[1;32m    291\u001b[0m     \u001b[0marchive\u001b[0m \u001b[0;34m=\u001b[0m \u001b[0mZipFile\u001b[0m\u001b[0;34m(\u001b[0m\u001b[0mfilename\u001b[0m\u001b[0;34m,\u001b[0m \u001b[0;34m'w'\u001b[0m\u001b[0;34m,\u001b[0m \u001b[0mZIP_DEFLATED\u001b[0m\u001b[0;34m,\u001b[0m \u001b[0mallowZip64\u001b[0m\u001b[0;34m=\u001b[0m\u001b[0;32mTrue\u001b[0m\u001b[0;34m)\u001b[0m\u001b[0;34m\u001b[0m\u001b[0;34m\u001b[0m\u001b[0m\n\u001b[1;32m    292\u001b[0m     \u001b[0mwriter\u001b[0m \u001b[0;34m=\u001b[0m \u001b[0mExcelWriter\u001b[0m\u001b[0;34m(\u001b[0m\u001b[0mworkbook\u001b[0m\u001b[0;34m,\u001b[0m \u001b[0marchive\u001b[0m\u001b[0;34m)\u001b[0m\u001b[0;34m\u001b[0m\u001b[0;34m\u001b[0m\u001b[0m\n\u001b[0;32m--> 293\u001b[0;31m     \u001b[0mwriter\u001b[0m\u001b[0;34m.\u001b[0m\u001b[0msave\u001b[0m\u001b[0;34m(\u001b[0m\u001b[0;34m)\u001b[0m\u001b[0;34m\u001b[0m\u001b[0;34m\u001b[0m\u001b[0m\n\u001b[0m\u001b[1;32m    294\u001b[0m     \u001b[0;32mreturn\u001b[0m \u001b[0;32mTrue\u001b[0m\u001b[0;34m\u001b[0m\u001b[0;34m\u001b[0m\u001b[0m\n\u001b[1;32m    295\u001b[0m \u001b[0;34m\u001b[0m\u001b[0m\n",
      "\u001b[0;32m~/.local/lib/python3.9/site-packages/openpyxl/writer/excel.py\u001b[0m in \u001b[0;36msave\u001b[0;34m(self)\u001b[0m\n\u001b[1;32m    273\u001b[0m     \u001b[0;32mdef\u001b[0m \u001b[0msave\u001b[0m\u001b[0;34m(\u001b[0m\u001b[0mself\u001b[0m\u001b[0;34m)\u001b[0m\u001b[0;34m:\u001b[0m\u001b[0;34m\u001b[0m\u001b[0;34m\u001b[0m\u001b[0m\n\u001b[1;32m    274\u001b[0m         \u001b[0;34m\"\"\"Write data into the archive.\"\"\"\u001b[0m\u001b[0;34m\u001b[0m\u001b[0;34m\u001b[0m\u001b[0m\n\u001b[0;32m--> 275\u001b[0;31m         \u001b[0mself\u001b[0m\u001b[0;34m.\u001b[0m\u001b[0mwrite_data\u001b[0m\u001b[0;34m(\u001b[0m\u001b[0;34m)\u001b[0m\u001b[0;34m\u001b[0m\u001b[0;34m\u001b[0m\u001b[0m\n\u001b[0m\u001b[1;32m    276\u001b[0m         \u001b[0mself\u001b[0m\u001b[0;34m.\u001b[0m\u001b[0m_archive\u001b[0m\u001b[0;34m.\u001b[0m\u001b[0mclose\u001b[0m\u001b[0;34m(\u001b[0m\u001b[0;34m)\u001b[0m\u001b[0;34m\u001b[0m\u001b[0;34m\u001b[0m\u001b[0m\n\u001b[1;32m    277\u001b[0m \u001b[0;34m\u001b[0m\u001b[0m\n",
      "\u001b[0;32m~/.local/lib/python3.9/site-packages/openpyxl/writer/excel.py\u001b[0m in \u001b[0;36mwrite_data\u001b[0;34m(self)\u001b[0m\n\u001b[1;32m     73\u001b[0m             \u001b[0marchive\u001b[0m\u001b[0;34m.\u001b[0m\u001b[0mwritestr\u001b[0m\u001b[0;34m(\u001b[0m\u001b[0mARC_THEME\u001b[0m\u001b[0;34m,\u001b[0m \u001b[0mtheme_xml\u001b[0m\u001b[0;34m)\u001b[0m\u001b[0;34m\u001b[0m\u001b[0;34m\u001b[0m\u001b[0m\n\u001b[1;32m     74\u001b[0m \u001b[0;34m\u001b[0m\u001b[0m\n\u001b[0;32m---> 75\u001b[0;31m         \u001b[0mself\u001b[0m\u001b[0;34m.\u001b[0m\u001b[0m_write_worksheets\u001b[0m\u001b[0;34m(\u001b[0m\u001b[0;34m)\u001b[0m\u001b[0;34m\u001b[0m\u001b[0;34m\u001b[0m\u001b[0m\n\u001b[0m\u001b[1;32m     76\u001b[0m         \u001b[0mself\u001b[0m\u001b[0;34m.\u001b[0m\u001b[0m_write_chartsheets\u001b[0m\u001b[0;34m(\u001b[0m\u001b[0;34m)\u001b[0m\u001b[0;34m\u001b[0m\u001b[0;34m\u001b[0m\u001b[0m\n\u001b[1;32m     77\u001b[0m         \u001b[0mself\u001b[0m\u001b[0;34m.\u001b[0m\u001b[0m_write_images\u001b[0m\u001b[0;34m(\u001b[0m\u001b[0;34m)\u001b[0m\u001b[0;34m\u001b[0m\u001b[0;34m\u001b[0m\u001b[0m\n",
      "\u001b[0;32m~/.local/lib/python3.9/site-packages/openpyxl/writer/excel.py\u001b[0m in \u001b[0;36m_write_worksheets\u001b[0;34m(self)\u001b[0m\n\u001b[1;32m    213\u001b[0m \u001b[0;34m\u001b[0m\u001b[0m\n\u001b[1;32m    214\u001b[0m             \u001b[0mws\u001b[0m\u001b[0;34m.\u001b[0m\u001b[0m_id\u001b[0m \u001b[0;34m=\u001b[0m \u001b[0midx\u001b[0m\u001b[0;34m\u001b[0m\u001b[0;34m\u001b[0m\u001b[0m\n\u001b[0;32m--> 215\u001b[0;31m             \u001b[0mself\u001b[0m\u001b[0;34m.\u001b[0m\u001b[0mwrite_worksheet\u001b[0m\u001b[0;34m(\u001b[0m\u001b[0mws\u001b[0m\u001b[0;34m)\u001b[0m\u001b[0;34m\u001b[0m\u001b[0;34m\u001b[0m\u001b[0m\n\u001b[0m\u001b[1;32m    216\u001b[0m \u001b[0;34m\u001b[0m\u001b[0m\n\u001b[1;32m    217\u001b[0m             \u001b[0;32mif\u001b[0m \u001b[0mws\u001b[0m\u001b[0;34m.\u001b[0m\u001b[0m_drawing\u001b[0m\u001b[0;34m:\u001b[0m\u001b[0;34m\u001b[0m\u001b[0;34m\u001b[0m\u001b[0m\n",
      "\u001b[0;32m~/.local/lib/python3.9/site-packages/openpyxl/writer/excel.py\u001b[0m in \u001b[0;36mwrite_worksheet\u001b[0;34m(self, ws)\u001b[0m\n\u001b[1;32m    198\u001b[0m         \u001b[0;32melse\u001b[0m\u001b[0;34m:\u001b[0m\u001b[0;34m\u001b[0m\u001b[0;34m\u001b[0m\u001b[0m\n\u001b[1;32m    199\u001b[0m             \u001b[0mwriter\u001b[0m \u001b[0;34m=\u001b[0m \u001b[0mWorksheetWriter\u001b[0m\u001b[0;34m(\u001b[0m\u001b[0mws\u001b[0m\u001b[0;34m)\u001b[0m\u001b[0;34m\u001b[0m\u001b[0;34m\u001b[0m\u001b[0m\n\u001b[0;32m--> 200\u001b[0;31m             \u001b[0mwriter\u001b[0m\u001b[0;34m.\u001b[0m\u001b[0mwrite\u001b[0m\u001b[0;34m(\u001b[0m\u001b[0;34m)\u001b[0m\u001b[0;34m\u001b[0m\u001b[0;34m\u001b[0m\u001b[0m\n\u001b[0m\u001b[1;32m    201\u001b[0m \u001b[0;34m\u001b[0m\u001b[0m\n\u001b[1;32m    202\u001b[0m         \u001b[0mws\u001b[0m\u001b[0;34m.\u001b[0m\u001b[0m_rels\u001b[0m \u001b[0;34m=\u001b[0m \u001b[0mwriter\u001b[0m\u001b[0;34m.\u001b[0m\u001b[0m_rels\u001b[0m\u001b[0;34m\u001b[0m\u001b[0;34m\u001b[0m\u001b[0m\n",
      "\u001b[0;32m~/.local/lib/python3.9/site-packages/openpyxl/worksheet/_writer.py\u001b[0m in \u001b[0;36mwrite\u001b[0;34m(self)\u001b[0m\n\u001b[1;32m    357\u001b[0m         \"\"\"\n\u001b[1;32m    358\u001b[0m         \u001b[0mself\u001b[0m\u001b[0;34m.\u001b[0m\u001b[0mwrite_top\u001b[0m\u001b[0;34m(\u001b[0m\u001b[0;34m)\u001b[0m\u001b[0;34m\u001b[0m\u001b[0;34m\u001b[0m\u001b[0m\n\u001b[0;32m--> 359\u001b[0;31m         \u001b[0mself\u001b[0m\u001b[0;34m.\u001b[0m\u001b[0mwrite_rows\u001b[0m\u001b[0;34m(\u001b[0m\u001b[0;34m)\u001b[0m\u001b[0;34m\u001b[0m\u001b[0;34m\u001b[0m\u001b[0m\n\u001b[0m\u001b[1;32m    360\u001b[0m         \u001b[0mself\u001b[0m\u001b[0;34m.\u001b[0m\u001b[0mwrite_tail\u001b[0m\u001b[0;34m(\u001b[0m\u001b[0;34m)\u001b[0m\u001b[0;34m\u001b[0m\u001b[0;34m\u001b[0m\u001b[0m\n\u001b[1;32m    361\u001b[0m         \u001b[0mself\u001b[0m\u001b[0;34m.\u001b[0m\u001b[0mclose\u001b[0m\u001b[0;34m(\u001b[0m\u001b[0;34m)\u001b[0m\u001b[0;34m\u001b[0m\u001b[0;34m\u001b[0m\u001b[0m\n",
      "\u001b[0;32m~/.local/lib/python3.9/site-packages/openpyxl/worksheet/_writer.py\u001b[0m in \u001b[0;36mwrite_rows\u001b[0;34m(self)\u001b[0m\n\u001b[1;32m    123\u001b[0m         \u001b[0;32mwith\u001b[0m \u001b[0mxf\u001b[0m\u001b[0;34m.\u001b[0m\u001b[0melement\u001b[0m\u001b[0;34m(\u001b[0m\u001b[0;34m\"sheetData\"\u001b[0m\u001b[0;34m)\u001b[0m\u001b[0;34m:\u001b[0m\u001b[0;34m\u001b[0m\u001b[0;34m\u001b[0m\u001b[0m\n\u001b[1;32m    124\u001b[0m             \u001b[0;32mfor\u001b[0m \u001b[0mrow_idx\u001b[0m\u001b[0;34m,\u001b[0m \u001b[0mrow\u001b[0m \u001b[0;32min\u001b[0m \u001b[0mself\u001b[0m\u001b[0;34m.\u001b[0m\u001b[0mrows\u001b[0m\u001b[0;34m(\u001b[0m\u001b[0;34m)\u001b[0m\u001b[0;34m:\u001b[0m\u001b[0;34m\u001b[0m\u001b[0;34m\u001b[0m\u001b[0m\n\u001b[0;32m--> 125\u001b[0;31m                 \u001b[0mself\u001b[0m\u001b[0;34m.\u001b[0m\u001b[0mwrite_row\u001b[0m\u001b[0;34m(\u001b[0m\u001b[0mxf\u001b[0m\u001b[0;34m,\u001b[0m \u001b[0mrow\u001b[0m\u001b[0;34m,\u001b[0m \u001b[0mrow_idx\u001b[0m\u001b[0;34m)\u001b[0m\u001b[0;34m\u001b[0m\u001b[0;34m\u001b[0m\u001b[0m\n\u001b[0m\u001b[1;32m    126\u001b[0m \u001b[0;34m\u001b[0m\u001b[0m\n\u001b[1;32m    127\u001b[0m         \u001b[0mself\u001b[0m\u001b[0;34m.\u001b[0m\u001b[0mxf\u001b[0m\u001b[0;34m.\u001b[0m\u001b[0msend\u001b[0m\u001b[0;34m(\u001b[0m\u001b[0;32mNone\u001b[0m\u001b[0;34m)\u001b[0m \u001b[0;31m# return control to generator\u001b[0m\u001b[0;34m\u001b[0m\u001b[0;34m\u001b[0m\u001b[0m\n",
      "\u001b[0;32m~/.local/lib/python3.9/site-packages/openpyxl/worksheet/_writer.py\u001b[0m in \u001b[0;36mwrite_row\u001b[0;34m(self, xf, row, row_idx)\u001b[0m\n\u001b[1;32m    145\u001b[0m                     ):\n\u001b[1;32m    146\u001b[0m                     \u001b[0;32mcontinue\u001b[0m\u001b[0;34m\u001b[0m\u001b[0;34m\u001b[0m\u001b[0m\n\u001b[0;32m--> 147\u001b[0;31m                 \u001b[0mwrite_cell\u001b[0m\u001b[0;34m(\u001b[0m\u001b[0mxf\u001b[0m\u001b[0;34m,\u001b[0m \u001b[0mself\u001b[0m\u001b[0;34m.\u001b[0m\u001b[0mws\u001b[0m\u001b[0;34m,\u001b[0m \u001b[0mcell\u001b[0m\u001b[0;34m,\u001b[0m \u001b[0mcell\u001b[0m\u001b[0;34m.\u001b[0m\u001b[0mhas_style\u001b[0m\u001b[0;34m)\u001b[0m\u001b[0;34m\u001b[0m\u001b[0;34m\u001b[0m\u001b[0m\n\u001b[0m\u001b[1;32m    148\u001b[0m \u001b[0;34m\u001b[0m\u001b[0m\n\u001b[1;32m    149\u001b[0m \u001b[0;34m\u001b[0m\u001b[0m\n",
      "\u001b[0;32m/usr/lib/python3.9/contextlib.py\u001b[0m in \u001b[0;36m__exit__\u001b[0;34m(self, typ, value, traceback)\u001b[0m\n\u001b[1;32m    126\u001b[0m                 \u001b[0mnext\u001b[0m\u001b[0;34m(\u001b[0m\u001b[0mself\u001b[0m\u001b[0;34m.\u001b[0m\u001b[0mgen\u001b[0m\u001b[0;34m)\u001b[0m\u001b[0;34m\u001b[0m\u001b[0;34m\u001b[0m\u001b[0m\n\u001b[1;32m    127\u001b[0m             \u001b[0;32mexcept\u001b[0m \u001b[0mStopIteration\u001b[0m\u001b[0;34m:\u001b[0m\u001b[0;34m\u001b[0m\u001b[0;34m\u001b[0m\u001b[0m\n\u001b[0;32m--> 128\u001b[0;31m                 \u001b[0;32mreturn\u001b[0m \u001b[0;32mFalse\u001b[0m\u001b[0;34m\u001b[0m\u001b[0;34m\u001b[0m\u001b[0m\n\u001b[0m\u001b[1;32m    129\u001b[0m             \u001b[0;32melse\u001b[0m\u001b[0;34m:\u001b[0m\u001b[0;34m\u001b[0m\u001b[0;34m\u001b[0m\u001b[0m\n\u001b[1;32m    130\u001b[0m                 \u001b[0;32mraise\u001b[0m \u001b[0mRuntimeError\u001b[0m\u001b[0;34m(\u001b[0m\u001b[0;34m\"generator didn't stop\"\u001b[0m\u001b[0;34m)\u001b[0m\u001b[0;34m\u001b[0m\u001b[0;34m\u001b[0m\u001b[0m\n",
      "\u001b[0;31mKeyboardInterrupt\u001b[0m: "
     ]
    }
   ],
   "source": [
    "name_export_file=input(\"Enter the name for the new file: \")\n",
    "name_export_file=name_export_file + \".xlsx\"\n",
    "#df_to_clean.to_excel(name_export_file, index = False)\n",
    "df_to_clean.to_excel(r'/home/anu/Documents/aeddix/File Name.xlsx', index = False)"
   ]
  },
  {
   "cell_type": "code",
   "execution_count": 35,
   "metadata": {},
   "outputs": [
    {
     "data": {
      "text/plain": [
       "'/home/anu/Documents/aeddix'"
      ]
     },
     "execution_count": 35,
     "metadata": {},
     "output_type": "execute_result"
    }
   ],
   "source": [
    "#working_directory=\n",
    "os.getcwd()\n",
    "#csv_name=working_directory + \"/clean_data.csv\"\n",
    "#df_no_typos.to_csv(r'csv_name', index = False)"
   ]
  },
  {
   "cell_type": "code",
   "execution_count": 21,
   "metadata": {
    "scrolled": true
   },
   "outputs": [
    {
     "name": "stdout",
     "output_type": "stream",
     "text": [
      "Enter the number of lines you would like to see: 20\n",
      "             Datum/Zeit  Produkt#                     Produktname  Menge  \\\n",
      "0   2018:03:01:17:06:54      1063            BIEROL PADAWAN  0.30    1.0   \n",
      "1   2018:03:01:17:11:49      1155           PINZGA ZWICKL PITCHER    1.0   \n",
      "2   2018:03:01:17:11:50      1801        Flammkuchen Traditionell    1.0   \n",
      "3   2018:03:01:17:11:58      1803        Flammkuchen Vegetarisch     1.0   \n",
      "4   2018:03:01:17:16:06      1018  FRAU GRUBER GREEN IS LORD 0.30    1.0   \n",
      "5   2018:03:01:17:16:09      1023           WILDBEER TEPACHE 0.30    1.0   \n",
      "6   2018:03:01:17:18:18      1153              PINZGA ZWICKL 0.30    1.0   \n",
      "7   2018:03:01:17:18:49      1018  FRAU GRUBER GREEN IS LORD 0.30    2.0   \n",
      "8   2018:03:01:17:26:33      1033                 BIEROL MPA 0.30    1.0   \n",
      "9   2018:03:01:17:26:33      1123        SCHLÄGL ZWICKL BOCK 0.30    1.0   \n",
      "10  2018:03:01:17:34:24      1054           BIEROL AZTEC ALE 0.50    1.0   \n",
      "11  2018:03:01:17:35:27      1018  FRAU GRUBER GREEN IS LORD 0.30    1.0   \n",
      "12  2018:03:01:17:37:11      1092       WILDBEER MILLIONAIRE 0.20    1.0   \n",
      "13  2018:03:01:17:37:15      1173          BATZENBRÄU PORTER 0.30    1.0   \n",
      "14  2018:03:01:17:39:04      1173          BATZENBRÄU PORTER 0.30    1.0   \n",
      "15  2018:03:01:17:39:18      1073        FREIGEIST ÜNDERWEÄR 0.30    1.0   \n",
      "16  2018:03:01:17:39:19      1083     HOFSTETTNER GRANITBOCK 0.30    1.0   \n",
      "17  2018:03:01:17:53:37      1092       WILDBEER MILLIONAIRE 0.20    1.0   \n",
      "18  2018:03:01:18:01:09      1154              PINZGA ZWICKL 0.50    1.0   \n",
      "19  2018:03:01:18:02:35      1043       GÄNSTALLER MANDARINA 0.30    1.0   \n",
      "\n",
      "    Einzelpreis  Gesamtpreis  \n",
      "0           4.3          4.3  \n",
      "1          13.2         13.2  \n",
      "2           6.8          6.8  \n",
      "3           6.8          6.8  \n",
      "4           4.8          4.8  \n",
      "5           5.8          5.8  \n",
      "6           3.3          3.3  \n",
      "7           4.8          9.6  \n",
      "8           4.3          4.3  \n",
      "9           3.7          3.7  \n",
      "10          6.8          6.8  \n",
      "11          4.8          4.8  \n",
      "12          3.2          3.2  \n",
      "13          4.3          4.3  \n",
      "14          4.3          4.3  \n",
      "15          5.8          5.8  \n",
      "16          4.3          4.3  \n",
      "17          3.2          3.2  \n",
      "18          4.4          4.4  \n",
      "19          4.3          4.3  \n"
     ]
    }
   ],
   "source": [
    "#number_to_show=input(\"Enter the number of lines you would like to see: \")\n",
    "#print(df_no_typos.head(int(number_to_show)))"
   ]
  },
  {
   "cell_type": "code",
   "execution_count": null,
   "metadata": {},
   "outputs": [],
   "source": [
    "print(df_to_clean[4:5])"
   ]
  },
  {
   "cell_type": "markdown",
   "metadata": {},
   "source": [
    "# Types check"
   ]
  },
  {
   "cell_type": "code",
   "execution_count": 8,
   "metadata": {},
   "outputs": [],
   "source": [
    "data_columns=df_to_clean.columns#dtypes[column]"
   ]
  },
  {
   "cell_type": "code",
   "execution_count": 5,
   "metadata": {},
   "outputs": [
    {
     "data": {
      "text/plain": [
       "dtype('float64')"
      ]
     },
     "execution_count": 5,
     "metadata": {},
     "output_type": "execute_result"
    }
   ],
   "source": [
    "df_to_clean.dtypes[\"Einzelpreis\"]"
   ]
  },
  {
   "cell_type": "code",
   "execution_count": 6,
   "metadata": {},
   "outputs": [
    {
     "data": {
      "text/plain": [
       "Datum/Zeit      object\n",
       "Produkt#         int64\n",
       "Produktname     object\n",
       "Menge          float64\n",
       "Einzelpreis    float64\n",
       "Gesamtpreis    float64\n",
       "dtype: object"
      ]
     },
     "execution_count": 6,
     "metadata": {},
     "output_type": "execute_result"
    }
   ],
   "source": [
    "df_to_clean.dtypes"
   ]
  },
  {
   "cell_type": "code",
   "execution_count": 44,
   "metadata": {},
   "outputs": [
    {
     "data": {
      "text/plain": [
       "Datum/Zeit      object\n",
       "Produkt#        object\n",
       "Produktname     object\n",
       "Menge          float64\n",
       "Einzelpreis    float64\n",
       "Gesamtpreis    float64\n",
       "dtype: object"
      ]
     },
     "execution_count": 44,
     "metadata": {},
     "output_type": "execute_result"
    }
   ],
   "source": [
    "df_to_clean.astype({\"Produkt#\": 'object'}).dtypes"
   ]
  },
  {
   "cell_type": "code",
   "execution_count": 10,
   "metadata": {},
   "outputs": [
    {
     "data": {
      "text/plain": [
       "Datum/Zeit      object\n",
       "Produkt#         int64\n",
       "Produktname     object\n",
       "Menge          float64\n",
       "Einzelpreis    float64\n",
       "Gesamtpreis    float64\n",
       "dtype: object"
      ]
     },
     "execution_count": 10,
     "metadata": {},
     "output_type": "execute_result"
    }
   ],
   "source": [
    "df_to_clean.dtypes#[\"Produkt#\"]"
   ]
  },
  {
   "cell_type": "code",
   "execution_count": 11,
   "metadata": {},
   "outputs": [],
   "source": [
    "df_new=df_to_clean.astype({\"Produkt#\": 'float64'})"
   ]
  },
  {
   "cell_type": "code",
   "execution_count": 47,
   "metadata": {},
   "outputs": [
    {
     "data": {
      "text/plain": [
       "Datum/Zeit      object\n",
       "Produkt#       float64\n",
       "Produktname     object\n",
       "Menge          float64\n",
       "Einzelpreis    float64\n",
       "Gesamtpreis    float64\n",
       "dtype: object"
      ]
     },
     "execution_count": 47,
     "metadata": {},
     "output_type": "execute_result"
    }
   ],
   "source": [
    "df_new.dtypes"
   ]
  },
  {
   "cell_type": "code",
   "execution_count": 46,
   "metadata": {},
   "outputs": [
    {
     "data": {
      "text/plain": [
       "Datum/Zeit      object\n",
       "Produkt#       float64\n",
       "Produktname     object\n",
       "Menge          float64\n",
       "Einzelpreis    float64\n",
       "Gesamtpreis    float64\n",
       "dtype: object"
      ]
     },
     "execution_count": 46,
     "metadata": {},
     "output_type": "execute_result"
    }
   ],
   "source": [
    "df_new[\"Produkt#\"]=df_new[\"Produkt#\"].astype('float64')\n",
    "df_new.dtypes"
   ]
  },
  {
   "cell_type": "code",
   "execution_count": 3,
   "metadata": {},
   "outputs": [],
   "source": [
    "df_new=df_to_clean"
   ]
  },
  {
   "cell_type": "code",
   "execution_count": 6,
   "metadata": {},
   "outputs": [],
   "source": [
    "#df_new['Datum/Zeit'].astype('datetime64')\n",
    "datetime_fixed=[]\n",
    "for date_time_to_fix in df_new['Datum/Zeit']:\n",
    "    datetime_fixed.append(datetime.strptime(date_time_to_fix, '%Y:%m:%d:%H:%M:%S'))"
   ]
  },
  {
   "cell_type": "code",
   "execution_count": 9,
   "metadata": {},
   "outputs": [],
   "source": [
    "\n",
    "df_new_date_typos=pd.DataFrame(columns=data_columns) \n",
    "for column in data_columns:\n",
    "    if column=='Datum/Zeit':\n",
    "        df_new_date_typos[column]=datetime_fixed\n",
    "    else:\n",
    "        df_new_date_typos[column]=df_to_clean[column]"
   ]
  },
  {
   "cell_type": "code",
   "execution_count": 10,
   "metadata": {},
   "outputs": [
    {
     "data": {
      "text/plain": [
       "Datum/Zeit     datetime64[ns]\n",
       "Produkt#                int64\n",
       "Produktname            object\n",
       "Menge                 float64\n",
       "Einzelpreis           float64\n",
       "Gesamtpreis           float64\n",
       "dtype: object"
      ]
     },
     "execution_count": 10,
     "metadata": {},
     "output_type": "execute_result"
    }
   ],
   "source": [
    "df_new_date_typos.dtypes"
   ]
  },
  {
   "cell_type": "code",
   "execution_count": 62,
   "metadata": {},
   "outputs": [
    {
     "name": "stdout",
     "output_type": "stream",
     "text": [
      "Please indicate the format of the date in the dataset.\n",
      "\n",
      "What appears first (Day, PM/AM, Month, Weekday, Second, Hour, Minute, Year)? Second\n",
      "Is the format 'Second' complete (y/n)?n\n",
      "What separator appears next (:, -, /, etc)? \n",
      "What appears next (Day, PM/AM, Month, Weekday, Hour, Minute, Year)? PM/AM\n",
      "Is the format 'SecondPM/AM' complete (y/n)?y\n",
      "%S%p\n"
     ]
    }
   ],
   "source": [
    "date_format_complete=0\n",
    "dateformat=\"\"\n",
    "date_symbols={\"Weekday\", \"Year\", \"Month\", \"Day\", \"Hour\", \"Minute\", \"Second\", \"PM/AM\"}\n",
    "format_for_user=\"\"\n",
    "print(\"Please indicate the format of the date in the dataset.\")\n",
    "print()\n",
    "while date_format_complete<7:\n",
    "    message_options=\"\"\n",
    "    lenght_message=0\n",
    "    for option_date in date_symbols:\n",
    "        message_options=message_options+option_date\n",
    "        lenght_message=lenght_message+1\n",
    "        if lenght_message!=len(date_symbols):\n",
    "            message_options=message_options+\", \"\n",
    "            \n",
    "    if date_format_complete==0:\n",
    "        \n",
    "        local_date_format=input(\"What appears first (\"+message_options+\")? \")\n",
    "        if local_date_format == \"Weekday\":\n",
    "            interpretator=weekday_function()\n",
    "        elif local_date_format == \"Year\":\n",
    "            interpretator=year_function()\n",
    "        elif local_date_format == \"Month\":\n",
    "            interpretator=month_function()\n",
    "        elif local_date_format == \"Day\":\n",
    "            interpretator=daynumber_function()\n",
    "        elif local_date_format == \"Hour\":\n",
    "            interpretator=hour_function()\n",
    "        elif local_date_format == \"Minute\":\n",
    "            interpretator=\"%M\"\n",
    "        elif local_date_format == \"Second\":\n",
    "            interpretator=\"%S\"\n",
    "        elif local_date_format == \"PM/AM\":\n",
    "            interpretator=\"%p\"\n",
    "        else:\n",
    "            break\n",
    "\n",
    "    \n",
    "    else:\n",
    "                \n",
    "        local_date_format=input(\"What appears next (\"+message_options+\")? \")\n",
    "        if local_date_format == \"Weekday\":\n",
    "            interpretator=weekday_function()\n",
    "        elif local_date_format == \"Year\":\n",
    "            interpretator=year_function()\n",
    "        elif local_date_format == \"Month\":\n",
    "            interpretator=month_function()\n",
    "        elif local_date_format == \"Day\":\n",
    "            interpretator=daynumber_function()\n",
    "        elif local_date_format == \"Hour\":\n",
    "            interpretator=hour_function()\n",
    "        elif local_date_format == \"Minute\":\n",
    "            interpretator=\"%M\"\n",
    "        elif local_date_format == \"Second\":\n",
    "            interpretator=\"%S\"\n",
    "        elif local_date_format == \"PM/AM\":\n",
    "            interpretator=\"%p\"\n",
    "        else:\n",
    "            break\n",
    "        \n",
    "    format_for_user=format_for_user+local_date_format\n",
    "    dateformat=dateformat+interpretator    \n",
    "\n",
    "    \n",
    "    if date_format_complete<6:\n",
    "        is_format_complete=input(\"Is the format '\"+format_for_user+\"' complete (y/n)?\")\n",
    "        if is_format_complete==\"y\":\n",
    "            break\n",
    "        else:\n",
    "            separator_date_format=input(\"What separator appears next (:, -, /, etc)? \")\n",
    "            dateformat=dateformat+separator_date_format\n",
    "            format_for_user=format_for_user+separator_date_format\n",
    "    \n",
    "    date_format_complete=date_format_complete+1\n",
    "    date_symbols=date_symbols-{local_date_format}\n",
    "    \n",
    "    return dateformat\n"
   ]
  },
  {
   "cell_type": "code",
   "execution_count": 58,
   "metadata": {},
   "outputs": [],
   "source": [
    "def weekday_function():\n",
    "    print(\"In which format is the weekday:\")\n",
    "    print(\"1) Weekday as abbreviated name.\")\n",
    "    print(\"2) Weekday as full name.\")\n",
    "    print(\"3) Weekday as a decimal number, where 0 is Sunday and 6 is Saturday.\")\n",
    "    week_format=int(input(\"Enter your choice: \"))\n",
    "    \n",
    "    if week_format==1:\n",
    "        return \"%a\"\n",
    "    elif week_format==2:\n",
    "        return \"%A\"\n",
    "    elif week_format==3:\n",
    "        return \"%w\"\n",
    "    else:\n",
    "        print(\"That was not a valid choice, the weekday format is set by default to the full name.\")\n",
    "        return \"%A\""
   ]
  },
  {
   "cell_type": "code",
   "execution_count": 47,
   "metadata": {},
   "outputs": [],
   "source": [
    "def year_function():\n",
    "    print(\"In which format if the year:\")\n",
    "    print(\"1) Year without century number (00 - 99).\")\n",
    "    print(\"2) Year with century number (0000 - 9999).\")\n",
    "    week_format=int(input(\"Enter your choice: \"))\n",
    "    \n",
    "    if week_format==1:\n",
    "        return \"%y\"\n",
    "    elif week_format==2:\n",
    "        return \"%Y\"\n",
    "    else:\n",
    "        print(\"That was not a valid choice, the year format is set by default with century.\")\n",
    "        return \"%Y\""
   ]
  },
  {
   "cell_type": "code",
   "execution_count": 47,
   "metadata": {},
   "outputs": [],
   "source": [
    "def month_function():\n",
    "    print(\"In which format if the month:\")\n",
    "    print(\"1) Month as abbreviated name.\")\n",
    "    print(\"2) Month as full name.\")\n",
    "    print(\"3) Month as number (01 - 12).\")\n",
    "    week_format=int(input(\"Enter your choice: \"))\n",
    "    \n",
    "    if week_format==1:\n",
    "        return \"%b\"\n",
    "    elif week_format==2:\n",
    "        return \"%B\"\n",
    "    elif week_format==3:\n",
    "        return \"%m\"\n",
    "    else:\n",
    "        print(\"That was not a valid choice, the month format is set by default to number of the month.\")\n",
    "        return \"%m\""
   ]
  },
  {
   "cell_type": "code",
   "execution_count": 61,
   "metadata": {},
   "outputs": [],
   "source": [
    "def daynumber_function():\n",
    "    print(\"In which format is the day:\")\n",
    "    print(\"1) Day of the month (01 - 31).\")\n",
    "    print(\"2) Day of the year (001 - 366).\")\n",
    "    week_format=int(input(\"Enter your choice: \"))\n",
    "    \n",
    "    if week_format==1:\n",
    "        return \"%d\"\n",
    "    elif week_format==2:\n",
    "        return \"%j\"\n",
    "    else:\n",
    "        print(\"That was not a valid choice, the day format is set by default to day of the month.\")\n",
    "        return \"%d\""
   ]
  },
  {
   "cell_type": "code",
   "execution_count": 61,
   "metadata": {},
   "outputs": [],
   "source": [
    "def hour_function():\n",
    "    print(\"In which format is the hour:\")\n",
    "    print(\"1) 24-hour clock.\")\n",
    "    print(\"2) 12-hour clock.\")\n",
    "    week_format=int(input(\"Enter your choice: \"))\n",
    "    \n",
    "    if week_format==1:\n",
    "        return \"%H\"\n",
    "    elif week_format==2:\n",
    "        return \"%I\"\n",
    "    else:\n",
    "        print(\"That was not a valid choice, the hour format is set by default to 24-hour.\")\n",
    "        return \"%H\""
   ]
  },
  {
   "cell_type": "code",
   "execution_count": 36,
   "metadata": {},
   "outputs": [
    {
     "name": "stdout",
     "output_type": "stream",
     "text": [
      "No dataset loaded\n"
     ]
    }
   ],
   "source": [
    "no_data_loaded = {'Error_message': ['No dataset loaded']}\n",
    "\n",
    "df_to_clean = pd.DataFrame(data=no_data_loaded)  \n",
    "print(no_data_loaded[\"Error_message\"][0])"
   ]
  },
  {
   "cell_type": "code",
   "execution_count": 38,
   "metadata": {},
   "outputs": [
    {
     "name": "stdout",
     "output_type": "stream",
     "text": [
      "no loaded\n"
     ]
    }
   ],
   "source": [
    "if df_to_clean.columns[0]=='Error_message':\n",
    "    print(\"no loaded\")"
   ]
  },
  {
   "cell_type": "code",
   "execution_count": 1,
   "metadata": {},
   "outputs": [
    {
     "name": "stdout",
     "output_type": "stream",
     "text": [
      "trieasdfd\n"
     ]
    }
   ],
   "source": [
    "print(\"trieasdfd\")"
   ]
  },
  {
   "cell_type": "markdown",
   "metadata": {},
   "source": [
    "# Test entries"
   ]
  },
  {
   "cell_type": "code",
   "execution_count": 1,
   "metadata": {},
   "outputs": [
    {
     "name": "stdout",
     "output_type": "stream",
     "text": [
      "Es una clave\n"
     ]
    }
   ],
   "source": [
    "clave=\"Es una clave\"\n",
    "print(clave)"
   ]
  },
  {
   "cell_type": "code",
   "execution_count": 2,
   "metadata": {},
   "outputs": [
    {
     "name": "stdout",
     "output_type": "stream",
     "text": [
      "{' ', 'a', 'e', 's', 'u', 'l', 'v', 'c', 'n', 'E'}\n"
     ]
    }
   ],
   "source": [
    "nueva_clave=set(clave)\n",
    "print(nueva_clave)"
   ]
  },
  {
   "cell_type": "code",
   "execution_count": 5,
   "metadata": {},
   "outputs": [
    {
     "name": "stdout",
     "output_type": "stream",
     "text": [
      "1234\n",
      "1234\n",
      "{'3', '1', '4', '2'}\n"
     ]
    }
   ],
   "source": [
    "enteros=1234\n",
    "print(enteros)\n",
    "enteros=str(enteros)\n",
    "print(enteros)\n",
    "cadenas=set(enteros)\n",
    "print(cadenas)"
   ]
  },
  {
   "cell_type": "code",
   "execution_count": 24,
   "metadata": {},
   "outputs": [
    {
     "name": "stdout",
     "output_type": "stream",
     "text": [
      "1.0\n",
      "1.0\n",
      "1.0\n",
      "1.0\n",
      "1.0\n",
      "1.0\n",
      "1.0\n",
      "2.0\n",
      "1.0\n",
      "1.0\n",
      "1.0\n",
      "1.0\n",
      "1.0\n",
      "1.0\n",
      "1.0\n",
      "1.0\n",
      "1.0\n",
      "1.0\n",
      "1.0\n",
      "1.0\n",
      "1.0\n",
      "1.0\n",
      "1.0\n",
      "1.0\n",
      "1.0\n",
      "1.0\n",
      "1.0\n",
      "1.0\n",
      "1.0\n",
      "1.0\n",
      "1.0\n",
      "1.0\n",
      "1.0\n",
      "1.0\n",
      "1.0\n",
      "1.0\n",
      "1.0\n",
      "1.0\n",
      "1.0\n",
      "1.0\n",
      "1.0\n",
      "1.0\n",
      "1.0\n",
      "1.0\n",
      "2.0\n",
      "1.0\n",
      "1.0\n",
      "1.0\n",
      "1.0\n",
      "1.0\n",
      "{'0', '.', '1', '2'}\n"
     ]
    }
   ],
   "source": [
    "#df_to_clean.columns\n",
    "set_of_entries = set()\n",
    "for product in df_to_clean[\"Menge\"][:50]:\n",
    "    print(product)\n",
    "    set_of_entries=set_of_entries.union(set(str(product)))\n",
    "print(set_of_entries)"
   ]
  },
  {
   "cell_type": "code",
   "execution_count": 16,
   "metadata": {},
   "outputs": [
    {
     "name": "stdout",
     "output_type": "stream",
     "text": [
      "{'3', \"'\", '–', 'm', 'h', 'l', 'Ã', 'Â', 'Ÿ', 'J', 'U', 'f', 'z', 'R', 'C', '¶', 'N', 'n', 'D', 'I', 'r', 'W', 'c', '7', '#', 'Q', '8', 'M', '%', 'X', 'b', '9', 'Z', 'k', 'u', 'w', 'O', 'p', 'A', '1', '¤', 'P', '.', 'S', 'F', 'y', 's', 'V', '/', 't', 'Y', 'E', 'i', 'œ', '5', 'B', 'H', 'e', 'q', 'L', '0', 'd', '2', '„', '6', 'o', 'x', '-', '4', 'g', 'T', '´', '+', '&', 'a', 'K', 'v', 'G', ' '}\n",
      "1.2370173931121826\n",
      "{'3', \"'\", '–', 'm', 'h', 'l', 'Ã', 'Â', 'Ÿ', 'J', 'U', 'f', 'z', 'R', 'C', '¶', 'N', 'n', 'D', 'I', 'r', 'W', 'c', '8', '#', 'Q', '7', 'M', '%', 'X', 'b', '9', 'Z', 'k', 'u', 'w', 'O', 'p', 'A', '1', '¤', 'P', '.', 'S', 'F', 'y', 's', 'V', '/', 't', 'Y', 'E', 'i', '5', 'œ', 'B', 'H', 'e', 'q', 'L', '0', 'd', '2', '„', '6', 'o', 'x', '-', '4', 'g', 'T', '´', '+', '&', 'a', 'K', 'v', 'G', ' '}\n",
      "0.08006453514099121\n",
      "{'Â', \"'\", 'Ÿ', '/', '„', ' ', '%', '´', '–', '+', '&', '¶', 'œ', '#', '¤', '-', '.', 'Ã'}\n"
     ]
    }
   ],
   "source": [
    "import time\n",
    "\n",
    "start = time.time()\n",
    "\n",
    "\n",
    "set_of_entries = set()\n",
    "for product in df_to_clean[\"Produktname\"][0:len(df_to_clean[\"Produktname\"])]:\n",
    "    set_of_entries=set_of_entries.union(set(str(product)))\n",
    "    \n",
    "print(set_of_entries)\n",
    "\n",
    "end = time.time()\n",
    "print(end - start)\n",
    "\n",
    "start = time.time()\n",
    "\n",
    "\n",
    "set_of_entries = set()\n",
    "for product in set(df_to_clean[\"Produktname\"][0:len(df_to_clean[\"Produktname\"])]):\n",
    "    set_of_entries=set_of_entries.union(set(str(product)))\n",
    "    \n",
    "print(set_of_entries)\n",
    "\n",
    "end = time.time()\n",
    "print(end - start)\n",
    "\n",
    "Latin_alphabet_and_numbers={\"A\",\"B\",\"C\",\"D\",\"E\",\"F\",\"G\",\"H\",\"I\",\"J\",\"K\",\"L\",\"M\",\"N\",\"O\",\"P\",\"Q\",\n",
    "                        \"R\",\"S\",\"T\",\"U\",\"V\",\"W\",\"X\",\"Y\",\"Z\",\"a\",\"b\",\"c\",\"d\",\n",
    "                        \"e\",\"f\",\"g\",\"h\",\"i\",\"j\",\"k\",\"l\",\"m\",\"n\",\"o\",\"p\",\"q\",\n",
    "                        \"r\",\"s\",\"t\",\"u\",\"v\",\"w\",\"x\",\"y\",\"z\",\"1\",\"2\",\"3\",\"4\",\"5\",\"6\",\"7\",\"8\",\"9\",\"0\"}\n",
    "print(set_of_entries-Latin_alphabet_and_numbers)"
   ]
  },
  {
   "cell_type": "code",
   "execution_count": 22,
   "metadata": {},
   "outputs": [
    {
     "name": "stdout",
     "output_type": "stream",
     "text": [
      "Please enter the character you would like to find: ¶\n",
      "There are 1153 entries with '¶'.\n",
      "There are 1 unique entries with'¶'.\n",
      "\n",
      "The unique entries are:\n",
      "Mineralwasser VÃ¶slauer \n",
      "24\n"
     ]
    }
   ],
   "source": [
    "#df_to_clean[\"Produktname\"][:50]\n",
    "founded_words=[]\n",
    "token_to_search=input(\"Please enter the character you would like to find: \")\n",
    "for product in df_to_clean[\"Produktname\"]:\n",
    "    if token_to_search in set(str(product)):\n",
    "        founded_words.append(product)\n",
    "set_founded_words=set(founded_words)\n",
    "print(\"There are\", len(founded_words), \"entries with '\"+token_to_search+\"'.\")\n",
    "print(\"There are\", len(set(set_founded_words)), \"unique entries with'\"+token_to_search+\"'.\")\n",
    "print()\n",
    "print(\"The unique entries are:\")\n",
    "for word in set_founded_words:\n",
    "    print(word)\n",
    "    #print(len(word))#df_to_clean[df_to_clean[\"Produktname\"]==word])\n",
    "    \n"
   ]
  },
  {
   "cell_type": "code",
   "execution_count": 5,
   "metadata": {},
   "outputs": [
    {
     "data": {
      "text/html": [
       "<div>\n",
       "<style scoped>\n",
       "    .dataframe tbody tr th:only-of-type {\n",
       "        vertical-align: middle;\n",
       "    }\n",
       "\n",
       "    .dataframe tbody tr th {\n",
       "        vertical-align: top;\n",
       "    }\n",
       "\n",
       "    .dataframe thead th {\n",
       "        text-align: right;\n",
       "    }\n",
       "</style>\n",
       "<table border=\"1\" class=\"dataframe\">\n",
       "  <thead>\n",
       "    <tr style=\"text-align: right;\">\n",
       "      <th></th>\n",
       "      <th>Datum/Zeit</th>\n",
       "      <th>Produkt#</th>\n",
       "      <th>Produktname</th>\n",
       "      <th>Menge</th>\n",
       "      <th>Einzelpreis</th>\n",
       "      <th>Gesamtpreis</th>\n",
       "    </tr>\n",
       "  </thead>\n",
       "  <tbody>\n",
       "    <tr>\n",
       "      <th>110</th>\n",
       "      <td>2018:03:01:20:17:26</td>\n",
       "      <td>1605</td>\n",
       "      <td>Mineralwasser VÃ¶slauer</td>\n",
       "      <td>1.0</td>\n",
       "      <td>2.3</td>\n",
       "      <td>2.3</td>\n",
       "    </tr>\n",
       "    <tr>\n",
       "      <th>725</th>\n",
       "      <td>2018:03:03:01:48:18</td>\n",
       "      <td>1605</td>\n",
       "      <td>Mineralwasser VÃ¶slauer</td>\n",
       "      <td>1.0</td>\n",
       "      <td>2.3</td>\n",
       "      <td>2.3</td>\n",
       "    </tr>\n",
       "    <tr>\n",
       "      <th>830</th>\n",
       "      <td>2018:03:03:20:35:02</td>\n",
       "      <td>1605</td>\n",
       "      <td>Mineralwasser VÃ¶slauer</td>\n",
       "      <td>1.0</td>\n",
       "      <td>2.3</td>\n",
       "      <td>2.3</td>\n",
       "    </tr>\n",
       "    <tr>\n",
       "      <th>1004</th>\n",
       "      <td>2018:03:03:22:43:42</td>\n",
       "      <td>1605</td>\n",
       "      <td>Mineralwasser VÃ¶slauer</td>\n",
       "      <td>1.0</td>\n",
       "      <td>2.3</td>\n",
       "      <td>2.3</td>\n",
       "    </tr>\n",
       "    <tr>\n",
       "      <th>1250</th>\n",
       "      <td>2018:03:05:19:49:13</td>\n",
       "      <td>1605</td>\n",
       "      <td>Mineralwasser VÃ¶slauer</td>\n",
       "      <td>1.0</td>\n",
       "      <td>2.3</td>\n",
       "      <td>2.3</td>\n",
       "    </tr>\n",
       "    <tr>\n",
       "      <th>...</th>\n",
       "      <td>...</td>\n",
       "      <td>...</td>\n",
       "      <td>...</td>\n",
       "      <td>...</td>\n",
       "      <td>...</td>\n",
       "      <td>...</td>\n",
       "    </tr>\n",
       "    <tr>\n",
       "      <th>180634</th>\n",
       "      <td>2020:03:12:17:21:55</td>\n",
       "      <td>1605</td>\n",
       "      <td>Mineralwasser VÃ¶slauer</td>\n",
       "      <td>1.0</td>\n",
       "      <td>2.3</td>\n",
       "      <td>2.3</td>\n",
       "    </tr>\n",
       "    <tr>\n",
       "      <th>180670</th>\n",
       "      <td>2020:03:12:20:28:08</td>\n",
       "      <td>1605</td>\n",
       "      <td>Mineralwasser VÃ¶slauer</td>\n",
       "      <td>1.0</td>\n",
       "      <td>2.3</td>\n",
       "      <td>2.3</td>\n",
       "    </tr>\n",
       "    <tr>\n",
       "      <th>180681</th>\n",
       "      <td>2020:03:12:21:10:19</td>\n",
       "      <td>1605</td>\n",
       "      <td>Mineralwasser VÃ¶slauer</td>\n",
       "      <td>1.0</td>\n",
       "      <td>2.3</td>\n",
       "      <td>2.3</td>\n",
       "    </tr>\n",
       "    <tr>\n",
       "      <th>180693</th>\n",
       "      <td>2020:03:12:21:20:44</td>\n",
       "      <td>1605</td>\n",
       "      <td>Mineralwasser VÃ¶slauer</td>\n",
       "      <td>-1.0</td>\n",
       "      <td>2.3</td>\n",
       "      <td>-2.3</td>\n",
       "    </tr>\n",
       "    <tr>\n",
       "      <th>180694</th>\n",
       "      <td>2020:03:12:21:20:44</td>\n",
       "      <td>1605</td>\n",
       "      <td>Mineralwasser VÃ¶slauer</td>\n",
       "      <td>1.0</td>\n",
       "      <td>2.3</td>\n",
       "      <td>2.3</td>\n",
       "    </tr>\n",
       "  </tbody>\n",
       "</table>\n",
       "<p>1153 rows × 6 columns</p>\n",
       "</div>"
      ],
      "text/plain": [
       "                 Datum/Zeit  Produkt#               Produktname  Menge  \\\n",
       "110     2018:03:01:20:17:26      1605  Mineralwasser VÃ¶slauer     1.0   \n",
       "725     2018:03:03:01:48:18      1605  Mineralwasser VÃ¶slauer     1.0   \n",
       "830     2018:03:03:20:35:02      1605  Mineralwasser VÃ¶slauer     1.0   \n",
       "1004    2018:03:03:22:43:42      1605  Mineralwasser VÃ¶slauer     1.0   \n",
       "1250    2018:03:05:19:49:13      1605  Mineralwasser VÃ¶slauer     1.0   \n",
       "...                     ...       ...                       ...    ...   \n",
       "180634  2020:03:12:17:21:55      1605  Mineralwasser VÃ¶slauer     1.0   \n",
       "180670  2020:03:12:20:28:08      1605  Mineralwasser VÃ¶slauer     1.0   \n",
       "180681  2020:03:12:21:10:19      1605  Mineralwasser VÃ¶slauer     1.0   \n",
       "180693  2020:03:12:21:20:44      1605  Mineralwasser VÃ¶slauer    -1.0   \n",
       "180694  2020:03:12:21:20:44      1605  Mineralwasser VÃ¶slauer     1.0   \n",
       "\n",
       "        Einzelpreis  Gesamtpreis  \n",
       "110             2.3          2.3  \n",
       "725             2.3          2.3  \n",
       "830             2.3          2.3  \n",
       "1004            2.3          2.3  \n",
       "1250            2.3          2.3  \n",
       "...             ...          ...  \n",
       "180634          2.3          2.3  \n",
       "180670          2.3          2.3  \n",
       "180681          2.3          2.3  \n",
       "180693          2.3         -2.3  \n",
       "180694          2.3          2.3  \n",
       "\n",
       "[1153 rows x 6 columns]"
      ]
     },
     "execution_count": 5,
     "metadata": {},
     "output_type": "execute_result"
    }
   ],
   "source": [
    "#word_to_show=input(\"Please enter the word you would like to search: \")\n",
    "df_to_clean[df_to_clean[\"Produktname\"]==\"Mineralwasser VÃ¶slauer \"]\n"
   ]
  },
  {
   "cell_type": "code",
   "execution_count": 55,
   "metadata": {},
   "outputs": [],
   "source": [
    "dataset=df_to_clean.copy()"
   ]
  },
  {
   "cell_type": "code",
   "execution_count": 56,
   "metadata": {},
   "outputs": [
    {
     "name": "stdout",
     "output_type": "stream",
     "text": [
      "float64\n",
      "object\n"
     ]
    }
   ],
   "source": [
    "initial_type=dataset.dtypes[\"Menge\"]\n",
    "print(initial_type)\n",
    "dataset[\"Menge\"]=dataset[\"Menge\"].astype('str')\n",
    "new_type=dataset.dtypes[\"Menge\"]\n",
    "print(new_type)\n",
    "new_dataset=dataset[dataset[\"Menge\"]==\"1.0\"].copy()\n",
    "\n",
    "\n"
   ]
  },
  {
   "cell_type": "code",
   "execution_count": 58,
   "metadata": {},
   "outputs": [
    {
     "data": {
      "text/html": [
       "<div>\n",
       "<style scoped>\n",
       "    .dataframe tbody tr th:only-of-type {\n",
       "        vertical-align: middle;\n",
       "    }\n",
       "\n",
       "    .dataframe tbody tr th {\n",
       "        vertical-align: top;\n",
       "    }\n",
       "\n",
       "    .dataframe thead th {\n",
       "        text-align: right;\n",
       "    }\n",
       "</style>\n",
       "<table border=\"1\" class=\"dataframe\">\n",
       "  <thead>\n",
       "    <tr style=\"text-align: right;\">\n",
       "      <th></th>\n",
       "      <th>Datum/Zeit</th>\n",
       "      <th>Produkt#</th>\n",
       "      <th>Produktname</th>\n",
       "      <th>Menge</th>\n",
       "      <th>Einzelpreis</th>\n",
       "      <th>Gesamtpreis</th>\n",
       "    </tr>\n",
       "  </thead>\n",
       "  <tbody>\n",
       "    <tr>\n",
       "      <th>0</th>\n",
       "      <td>2018:03:01:17:06:54</td>\n",
       "      <td>1063</td>\n",
       "      <td>BIEROL PADAWAN  0.30</td>\n",
       "      <td>1.0</td>\n",
       "      <td>4.3</td>\n",
       "      <td>4.3</td>\n",
       "    </tr>\n",
       "    <tr>\n",
       "      <th>1</th>\n",
       "      <td>2018:03:01:17:11:49</td>\n",
       "      <td>1155</td>\n",
       "      <td>PINZGA ZWICKL PITCHER</td>\n",
       "      <td>1.0</td>\n",
       "      <td>13.2</td>\n",
       "      <td>13.2</td>\n",
       "    </tr>\n",
       "    <tr>\n",
       "      <th>2</th>\n",
       "      <td>2018:03:01:17:11:50</td>\n",
       "      <td>1801</td>\n",
       "      <td>Flammkuchen Traditionell</td>\n",
       "      <td>1.0</td>\n",
       "      <td>6.8</td>\n",
       "      <td>6.8</td>\n",
       "    </tr>\n",
       "    <tr>\n",
       "      <th>3</th>\n",
       "      <td>2018:03:01:17:11:58</td>\n",
       "      <td>1803</td>\n",
       "      <td>Flammkuchen Vegetarisch</td>\n",
       "      <td>1.0</td>\n",
       "      <td>6.8</td>\n",
       "      <td>6.8</td>\n",
       "    </tr>\n",
       "    <tr>\n",
       "      <th>4</th>\n",
       "      <td>2018:03:01:17:16:06</td>\n",
       "      <td>1018</td>\n",
       "      <td>FRAU GRUBER GREEN IS LORD 0.30</td>\n",
       "      <td>1.0</td>\n",
       "      <td>4.8</td>\n",
       "      <td>4.8</td>\n",
       "    </tr>\n",
       "  </tbody>\n",
       "</table>\n",
       "</div>"
      ],
      "text/plain": [
       "            Datum/Zeit  Produkt#                     Produktname  Menge  \\\n",
       "0  2018:03:01:17:06:54      1063            BIEROL PADAWAN  0.30    1.0   \n",
       "1  2018:03:01:17:11:49      1155           PINZGA ZWICKL PITCHER    1.0   \n",
       "2  2018:03:01:17:11:50      1801        Flammkuchen Traditionell    1.0   \n",
       "3  2018:03:01:17:11:58      1803        Flammkuchen Vegetarisch     1.0   \n",
       "4  2018:03:01:17:16:06      1018  FRAU GRUBER GREEN IS LORD 0.30    1.0   \n",
       "\n",
       "   Einzelpreis  Gesamtpreis  \n",
       "0          4.3          4.3  \n",
       "1         13.2         13.2  \n",
       "2          6.8          6.8  \n",
       "3          6.8          6.8  \n",
       "4          4.8          4.8  "
      ]
     },
     "execution_count": 58,
     "metadata": {},
     "output_type": "execute_result"
    }
   ],
   "source": [
    "new_dataset.dtypes[\"Menge\"]\n",
    "new_dataset[\"Menge\"]=new_dataset[\"Menge\"].astype(initial_type)\n",
    "new_dataset.dtypes[\"Menge\"]\n",
    "new_dataset.head()"
   ]
  },
  {
   "cell_type": "markdown",
   "metadata": {},
   "source": [
    "# dealing with nan"
   ]
  },
  {
   "cell_type": "code",
   "execution_count": 2,
   "metadata": {},
   "outputs": [],
   "source": [
    "df_to_clean = pd.read_csv(\"to_try.csv\", sep=\";\")"
   ]
  },
  {
   "cell_type": "code",
   "execution_count": 3,
   "metadata": {},
   "outputs": [
    {
     "data": {
      "text/html": [
       "<div>\n",
       "<style scoped>\n",
       "    .dataframe tbody tr th:only-of-type {\n",
       "        vertical-align: middle;\n",
       "    }\n",
       "\n",
       "    .dataframe tbody tr th {\n",
       "        vertical-align: top;\n",
       "    }\n",
       "\n",
       "    .dataframe thead th {\n",
       "        text-align: right;\n",
       "    }\n",
       "</style>\n",
       "<table border=\"1\" class=\"dataframe\">\n",
       "  <thead>\n",
       "    <tr style=\"text-align: right;\">\n",
       "      <th></th>\n",
       "      <th>Datum/Zeit</th>\n",
       "      <th>Produkt#</th>\n",
       "      <th>Produktname</th>\n",
       "      <th>Menge</th>\n",
       "      <th>Einzelpreis</th>\n",
       "      <th>Gesamtpreis</th>\n",
       "    </tr>\n",
       "  </thead>\n",
       "  <tbody>\n",
       "    <tr>\n",
       "      <th>0</th>\n",
       "      <td>2018:03:01:17:06:54</td>\n",
       "      <td>1063</td>\n",
       "      <td>BIEROL PADAWAN  0.30</td>\n",
       "      <td>NaN</td>\n",
       "      <td>4.3</td>\n",
       "      <td>4.3</td>\n",
       "    </tr>\n",
       "    <tr>\n",
       "      <th>1</th>\n",
       "      <td>2018:03:01:17:11:49</td>\n",
       "      <td>1155</td>\n",
       "      <td>PINZGA ZWICKL PITCHER</td>\n",
       "      <td>1.0</td>\n",
       "      <td>13.2</td>\n",
       "      <td>13.2</td>\n",
       "    </tr>\n",
       "    <tr>\n",
       "      <th>2</th>\n",
       "      <td>2018:03:01:17:11:50</td>\n",
       "      <td>1801</td>\n",
       "      <td>Flammkuchen Traditionell</td>\n",
       "      <td>1.0</td>\n",
       "      <td>6.8</td>\n",
       "      <td>6.8</td>\n",
       "    </tr>\n",
       "    <tr>\n",
       "      <th>3</th>\n",
       "      <td>2018:03:01:17:11:58</td>\n",
       "      <td>1803</td>\n",
       "      <td>Flammkuchen Vegetarisch</td>\n",
       "      <td>1.0</td>\n",
       "      <td>6.8</td>\n",
       "      <td>6.8</td>\n",
       "    </tr>\n",
       "    <tr>\n",
       "      <th>4</th>\n",
       "      <td>2018:03:01:17:16:06</td>\n",
       "      <td>1018</td>\n",
       "      <td>FRAU GRUBER GREEN IS LORD 0.30</td>\n",
       "      <td>1.0</td>\n",
       "      <td>4.8</td>\n",
       "      <td>4.8</td>\n",
       "    </tr>\n",
       "    <tr>\n",
       "      <th>...</th>\n",
       "      <td>...</td>\n",
       "      <td>...</td>\n",
       "      <td>...</td>\n",
       "      <td>...</td>\n",
       "      <td>...</td>\n",
       "      <td>...</td>\n",
       "    </tr>\n",
       "    <tr>\n",
       "      <th>180716</th>\n",
       "      <td>2020:03:12:22:12:24</td>\n",
       "      <td>1101</td>\n",
       "      <td>NEXT LEVEL DOUBLE TROUBLE 0.10</td>\n",
       "      <td>1.0</td>\n",
       "      <td>2.6</td>\n",
       "      <td>2.6</td>\n",
       "    </tr>\n",
       "    <tr>\n",
       "      <th>180717</th>\n",
       "      <td>2020:03:12:22:12:36</td>\n",
       "      <td>1607</td>\n",
       "      <td>THOMAS HENRY GINGERBEER</td>\n",
       "      <td>1.0</td>\n",
       "      <td>3.4</td>\n",
       "      <td>3.4</td>\n",
       "    </tr>\n",
       "    <tr>\n",
       "      <th>180718</th>\n",
       "      <td>2020:03:12:22:12:38</td>\n",
       "      <td>10219</td>\n",
       "      <td>NITTENAUER IPA</td>\n",
       "      <td>1.0</td>\n",
       "      <td>4.8</td>\n",
       "      <td>4.8</td>\n",
       "    </tr>\n",
       "    <tr>\n",
       "      <th>180719</th>\n",
       "      <td>2020:03:12:22:12:42</td>\n",
       "      <td>1013</td>\n",
       "      <td>BIEROL PADAWAN 0.30</td>\n",
       "      <td>2.0</td>\n",
       "      <td>3.8</td>\n",
       "      <td>7.6</td>\n",
       "    </tr>\n",
       "    <tr>\n",
       "      <th>180720</th>\n",
       "      <td>2020:03:12:22:12:57</td>\n",
       "      <td>10190</td>\n",
       "      <td>SAND MARIA MAGDALENA</td>\n",
       "      <td>1.0</td>\n",
       "      <td>6.9</td>\n",
       "      <td>6.9</td>\n",
       "    </tr>\n",
       "  </tbody>\n",
       "</table>\n",
       "<p>180721 rows × 6 columns</p>\n",
       "</div>"
      ],
      "text/plain": [
       "                 Datum/Zeit  Produkt#                     Produktname  Menge  \\\n",
       "0       2018:03:01:17:06:54      1063            BIEROL PADAWAN  0.30    NaN   \n",
       "1       2018:03:01:17:11:49      1155           PINZGA ZWICKL PITCHER    1.0   \n",
       "2       2018:03:01:17:11:50      1801        Flammkuchen Traditionell    1.0   \n",
       "3       2018:03:01:17:11:58      1803        Flammkuchen Vegetarisch     1.0   \n",
       "4       2018:03:01:17:16:06      1018  FRAU GRUBER GREEN IS LORD 0.30    1.0   \n",
       "...                     ...       ...                             ...    ...   \n",
       "180716  2020:03:12:22:12:24      1101  NEXT LEVEL DOUBLE TROUBLE 0.10    1.0   \n",
       "180717  2020:03:12:22:12:36      1607         THOMAS HENRY GINGERBEER    1.0   \n",
       "180718  2020:03:12:22:12:38     10219                  NITTENAUER IPA    1.0   \n",
       "180719  2020:03:12:22:12:42      1013             BIEROL PADAWAN 0.30    2.0   \n",
       "180720  2020:03:12:22:12:57     10190            SAND MARIA MAGDALENA    1.0   \n",
       "\n",
       "        Einzelpreis  Gesamtpreis  \n",
       "0               4.3          4.3  \n",
       "1              13.2         13.2  \n",
       "2               6.8          6.8  \n",
       "3               6.8          6.8  \n",
       "4               4.8          4.8  \n",
       "...             ...          ...  \n",
       "180716          2.6          2.6  \n",
       "180717          3.4          3.4  \n",
       "180718          4.8          4.8  \n",
       "180719          3.8          7.6  \n",
       "180720          6.9          6.9  \n",
       "\n",
       "[180721 rows x 6 columns]"
      ]
     },
     "execution_count": 3,
     "metadata": {},
     "output_type": "execute_result"
    }
   ],
   "source": [
    "df_to_clean"
   ]
  },
  {
   "cell_type": "code",
   "execution_count": 18,
   "metadata": {},
   "outputs": [],
   "source": [
    "def construction_missing_values(dataset, data_columns):\n",
    "\n",
    "    missing_values_dataset=dataset.copy()\n",
    "\n",
    "    missing_identificator=np.full(len(dataset),True)\n",
    "\n",
    "    for column in data_columns:\n",
    "        missing_identificator=missing_identificator*(1-missing_values_dataset[column].isnull())\n",
    "\n",
    "    missing_values_dataset[\"missing value\"]=missing_identificator\n",
    "    missing_values_dataset=missing_values_dataset[missing_values_dataset[\"missing value\"]==0]\n",
    "\n",
    "    missing_values_dataset=missing_values_dataset.drop(\"missing value\", axis=1)\n",
    "\n",
    "    print(missing_values_dataset)\n",
    "\n",
    "    return (missing_values_dataset)"
   ]
  },
  {
   "cell_type": "code",
   "execution_count": 20,
   "metadata": {},
   "outputs": [
    {
     "name": "stdout",
     "output_type": "stream",
     "text": [
      "                Datum/Zeit  Produkt#           Produktname  Menge  \\\n",
      "0      2018:03:01:17:06:54      1063  BIEROL PADAWAN  0.30    NaN   \n",
      "90150  2019:03:19:17:46:43      1091                   NaN    1.0   \n",
      "\n",
      "       Einzelpreis  Gesamtpreis  \n",
      "0              4.3          4.3  \n",
      "90150          2.5          2.5  \n",
      "                Datum/Zeit  Produkt#           Produktname  Menge  \\\n",
      "0      2018:03:01:17:06:54      1063  BIEROL PADAWAN  0.30    NaN   \n",
      "90150  2019:03:19:17:46:43      1091                   NaN    1.0   \n",
      "\n",
      "       Einzelpreis  Gesamtpreis  \n",
      "0              4.3          4.3  \n",
      "90150          2.5          2.5  \n"
     ]
    }
   ],
   "source": [
    "data_columns=df_to_clean.columns\n",
    "missing_values_dataset=construction_missing_values(df_to_clean, data_columns).copy()\n",
    "print(missing_values_dataset)"
   ]
  },
  {
   "cell_type": "code",
   "execution_count": 17,
   "metadata": {},
   "outputs": [
    {
     "data": {
      "text/plain": [
       "0        NaN\n",
       "90150    1.0\n",
       "Name: Menge, dtype: float64"
      ]
     },
     "execution_count": 17,
     "metadata": {},
     "output_type": "execute_result"
    }
   ],
   "source": [
    "missing_values_dataset[\"Menge\"]"
   ]
  },
  {
   "cell_type": "markdown",
   "metadata": {},
   "source": [
    "Just try"
   ]
  },
  {
   "cell_type": "code",
   "execution_count": 4,
   "metadata": {},
   "outputs": [],
   "source": [
    "missing_values_dataset=df_to_clean.copy()"
   ]
  },
  {
   "cell_type": "code",
   "execution_count": 5,
   "metadata": {
    "scrolled": true
   },
   "outputs": [],
   "source": [
    "missing_identificator=np.full(len(df_to_clean),True)\n",
    "data_columns=missing_values_dataset.columns\n",
    "for column in data_columns:\n",
    "    missing_identificator=missing_identificator*(1-df_to_clean[column].isnull())"
   ]
  },
  {
   "cell_type": "code",
   "execution_count": 6,
   "metadata": {},
   "outputs": [
    {
     "data": {
      "text/html": [
       "<div>\n",
       "<style scoped>\n",
       "    .dataframe tbody tr th:only-of-type {\n",
       "        vertical-align: middle;\n",
       "    }\n",
       "\n",
       "    .dataframe tbody tr th {\n",
       "        vertical-align: top;\n",
       "    }\n",
       "\n",
       "    .dataframe thead th {\n",
       "        text-align: right;\n",
       "    }\n",
       "</style>\n",
       "<table border=\"1\" class=\"dataframe\">\n",
       "  <thead>\n",
       "    <tr style=\"text-align: right;\">\n",
       "      <th></th>\n",
       "      <th>Datum/Zeit</th>\n",
       "      <th>Produkt#</th>\n",
       "      <th>Produktname</th>\n",
       "      <th>Menge</th>\n",
       "      <th>Einzelpreis</th>\n",
       "      <th>Gesamtpreis</th>\n",
       "      <th>missing value</th>\n",
       "    </tr>\n",
       "  </thead>\n",
       "  <tbody>\n",
       "    <tr>\n",
       "      <th>0</th>\n",
       "      <td>2018:03:01:17:06:54</td>\n",
       "      <td>1063</td>\n",
       "      <td>BIEROL PADAWAN  0.30</td>\n",
       "      <td>NaN</td>\n",
       "      <td>4.3</td>\n",
       "      <td>4.3</td>\n",
       "      <td>0</td>\n",
       "    </tr>\n",
       "    <tr>\n",
       "      <th>90150</th>\n",
       "      <td>2019:03:19:17:46:43</td>\n",
       "      <td>1091</td>\n",
       "      <td>NaN</td>\n",
       "      <td>1.0</td>\n",
       "      <td>2.5</td>\n",
       "      <td>2.5</td>\n",
       "      <td>0</td>\n",
       "    </tr>\n",
       "  </tbody>\n",
       "</table>\n",
       "</div>"
      ],
      "text/plain": [
       "                Datum/Zeit  Produkt#           Produktname  Menge  \\\n",
       "0      2018:03:01:17:06:54      1063  BIEROL PADAWAN  0.30    NaN   \n",
       "90150  2019:03:19:17:46:43      1091                   NaN    1.0   \n",
       "\n",
       "       Einzelpreis  Gesamtpreis  missing value  \n",
       "0              4.3          4.3              0  \n",
       "90150          2.5          2.5              0  "
      ]
     },
     "execution_count": 6,
     "metadata": {},
     "output_type": "execute_result"
    }
   ],
   "source": [
    "missing_values_dataset[\"missing value\"]=missing_identificator\n",
    "missing_values_dataset[missing_values_dataset[\"missing value\"]==0]"
   ]
  },
  {
   "cell_type": "code",
   "execution_count": 7,
   "metadata": {},
   "outputs": [
    {
     "data": {
      "text/html": [
       "<div>\n",
       "<style scoped>\n",
       "    .dataframe tbody tr th:only-of-type {\n",
       "        vertical-align: middle;\n",
       "    }\n",
       "\n",
       "    .dataframe tbody tr th {\n",
       "        vertical-align: top;\n",
       "    }\n",
       "\n",
       "    .dataframe thead th {\n",
       "        text-align: right;\n",
       "    }\n",
       "</style>\n",
       "<table border=\"1\" class=\"dataframe\">\n",
       "  <thead>\n",
       "    <tr style=\"text-align: right;\">\n",
       "      <th></th>\n",
       "      <th>Datum/Zeit</th>\n",
       "      <th>Produkt#</th>\n",
       "      <th>Produktname</th>\n",
       "      <th>Menge</th>\n",
       "      <th>Einzelpreis</th>\n",
       "      <th>Gesamtpreis</th>\n",
       "    </tr>\n",
       "  </thead>\n",
       "  <tbody>\n",
       "    <tr>\n",
       "      <th>0</th>\n",
       "      <td>2018:03:01:17:06:54</td>\n",
       "      <td>1063</td>\n",
       "      <td>BIEROL PADAWAN  0.30</td>\n",
       "      <td>NaN</td>\n",
       "      <td>4.3</td>\n",
       "      <td>4.3</td>\n",
       "    </tr>\n",
       "    <tr>\n",
       "      <th>1</th>\n",
       "      <td>2018:03:01:17:11:49</td>\n",
       "      <td>1155</td>\n",
       "      <td>PINZGA ZWICKL PITCHER</td>\n",
       "      <td>1.0</td>\n",
       "      <td>13.2</td>\n",
       "      <td>13.2</td>\n",
       "    </tr>\n",
       "    <tr>\n",
       "      <th>2</th>\n",
       "      <td>2018:03:01:17:11:50</td>\n",
       "      <td>1801</td>\n",
       "      <td>Flammkuchen Traditionell</td>\n",
       "      <td>1.0</td>\n",
       "      <td>6.8</td>\n",
       "      <td>6.8</td>\n",
       "    </tr>\n",
       "    <tr>\n",
       "      <th>3</th>\n",
       "      <td>2018:03:01:17:11:58</td>\n",
       "      <td>1803</td>\n",
       "      <td>Flammkuchen Vegetarisch</td>\n",
       "      <td>1.0</td>\n",
       "      <td>6.8</td>\n",
       "      <td>6.8</td>\n",
       "    </tr>\n",
       "    <tr>\n",
       "      <th>4</th>\n",
       "      <td>2018:03:01:17:16:06</td>\n",
       "      <td>1018</td>\n",
       "      <td>FRAU GRUBER GREEN IS LORD 0.30</td>\n",
       "      <td>1.0</td>\n",
       "      <td>4.8</td>\n",
       "      <td>4.8</td>\n",
       "    </tr>\n",
       "    <tr>\n",
       "      <th>...</th>\n",
       "      <td>...</td>\n",
       "      <td>...</td>\n",
       "      <td>...</td>\n",
       "      <td>...</td>\n",
       "      <td>...</td>\n",
       "      <td>...</td>\n",
       "    </tr>\n",
       "    <tr>\n",
       "      <th>180716</th>\n",
       "      <td>2020:03:12:22:12:24</td>\n",
       "      <td>1101</td>\n",
       "      <td>NEXT LEVEL DOUBLE TROUBLE 0.10</td>\n",
       "      <td>1.0</td>\n",
       "      <td>2.6</td>\n",
       "      <td>2.6</td>\n",
       "    </tr>\n",
       "    <tr>\n",
       "      <th>180717</th>\n",
       "      <td>2020:03:12:22:12:36</td>\n",
       "      <td>1607</td>\n",
       "      <td>THOMAS HENRY GINGERBEER</td>\n",
       "      <td>1.0</td>\n",
       "      <td>3.4</td>\n",
       "      <td>3.4</td>\n",
       "    </tr>\n",
       "    <tr>\n",
       "      <th>180718</th>\n",
       "      <td>2020:03:12:22:12:38</td>\n",
       "      <td>10219</td>\n",
       "      <td>NITTENAUER IPA</td>\n",
       "      <td>1.0</td>\n",
       "      <td>4.8</td>\n",
       "      <td>4.8</td>\n",
       "    </tr>\n",
       "    <tr>\n",
       "      <th>180719</th>\n",
       "      <td>2020:03:12:22:12:42</td>\n",
       "      <td>1013</td>\n",
       "      <td>BIEROL PADAWAN 0.30</td>\n",
       "      <td>2.0</td>\n",
       "      <td>3.8</td>\n",
       "      <td>7.6</td>\n",
       "    </tr>\n",
       "    <tr>\n",
       "      <th>180720</th>\n",
       "      <td>2020:03:12:22:12:57</td>\n",
       "      <td>10190</td>\n",
       "      <td>SAND MARIA MAGDALENA</td>\n",
       "      <td>1.0</td>\n",
       "      <td>6.9</td>\n",
       "      <td>6.9</td>\n",
       "    </tr>\n",
       "  </tbody>\n",
       "</table>\n",
       "<p>180721 rows × 6 columns</p>\n",
       "</div>"
      ],
      "text/plain": [
       "                 Datum/Zeit  Produkt#                     Produktname  Menge  \\\n",
       "0       2018:03:01:17:06:54      1063            BIEROL PADAWAN  0.30    NaN   \n",
       "1       2018:03:01:17:11:49      1155           PINZGA ZWICKL PITCHER    1.0   \n",
       "2       2018:03:01:17:11:50      1801        Flammkuchen Traditionell    1.0   \n",
       "3       2018:03:01:17:11:58      1803        Flammkuchen Vegetarisch     1.0   \n",
       "4       2018:03:01:17:16:06      1018  FRAU GRUBER GREEN IS LORD 0.30    1.0   \n",
       "...                     ...       ...                             ...    ...   \n",
       "180716  2020:03:12:22:12:24      1101  NEXT LEVEL DOUBLE TROUBLE 0.10    1.0   \n",
       "180717  2020:03:12:22:12:36      1607         THOMAS HENRY GINGERBEER    1.0   \n",
       "180718  2020:03:12:22:12:38     10219                  NITTENAUER IPA    1.0   \n",
       "180719  2020:03:12:22:12:42      1013             BIEROL PADAWAN 0.30    2.0   \n",
       "180720  2020:03:12:22:12:57     10190            SAND MARIA MAGDALENA    1.0   \n",
       "\n",
       "        Einzelpreis  Gesamtpreis  \n",
       "0               4.3          4.3  \n",
       "1              13.2         13.2  \n",
       "2               6.8          6.8  \n",
       "3               6.8          6.8  \n",
       "4               4.8          4.8  \n",
       "...             ...          ...  \n",
       "180716          2.6          2.6  \n",
       "180717          3.4          3.4  \n",
       "180718          4.8          4.8  \n",
       "180719          3.8          7.6  \n",
       "180720          6.9          6.9  \n",
       "\n",
       "[180721 rows x 6 columns]"
      ]
     },
     "execution_count": 7,
     "metadata": {},
     "output_type": "execute_result"
    }
   ],
   "source": [
    "missing_values_dataset=missing_values_dataset.drop(\"missing value\", axis=1)\n",
    "missing_values_dataset"
   ]
  },
  {
   "cell_type": "code",
   "execution_count": 20,
   "metadata": {},
   "outputs": [
    {
     "data": {
      "text/html": [
       "<div>\n",
       "<style scoped>\n",
       "    .dataframe tbody tr th:only-of-type {\n",
       "        vertical-align: middle;\n",
       "    }\n",
       "\n",
       "    .dataframe tbody tr th {\n",
       "        vertical-align: top;\n",
       "    }\n",
       "\n",
       "    .dataframe thead th {\n",
       "        text-align: right;\n",
       "    }\n",
       "</style>\n",
       "<table border=\"1\" class=\"dataframe\">\n",
       "  <thead>\n",
       "    <tr style=\"text-align: right;\">\n",
       "      <th></th>\n",
       "      <th>Datum/Zeit</th>\n",
       "      <th>Produkt#</th>\n",
       "      <th>Produktname</th>\n",
       "      <th>Menge</th>\n",
       "      <th>Einzelpreis</th>\n",
       "      <th>Gesamtpreis</th>\n",
       "    </tr>\n",
       "  </thead>\n",
       "  <tbody>\n",
       "    <tr>\n",
       "      <th>1</th>\n",
       "      <td>2018:03:01:17:11:49</td>\n",
       "      <td>1155</td>\n",
       "      <td>PINZGA ZWICKL PITCHER</td>\n",
       "      <td>1.0</td>\n",
       "      <td>13.2</td>\n",
       "      <td>13.2</td>\n",
       "    </tr>\n",
       "    <tr>\n",
       "      <th>2</th>\n",
       "      <td>2018:03:01:17:11:50</td>\n",
       "      <td>1801</td>\n",
       "      <td>Flammkuchen Traditionell</td>\n",
       "      <td>1.0</td>\n",
       "      <td>6.8</td>\n",
       "      <td>6.8</td>\n",
       "    </tr>\n",
       "    <tr>\n",
       "      <th>3</th>\n",
       "      <td>2018:03:01:17:11:58</td>\n",
       "      <td>1803</td>\n",
       "      <td>Flammkuchen Vegetarisch</td>\n",
       "      <td>1.0</td>\n",
       "      <td>6.8</td>\n",
       "      <td>6.8</td>\n",
       "    </tr>\n",
       "    <tr>\n",
       "      <th>4</th>\n",
       "      <td>2018:03:01:17:16:06</td>\n",
       "      <td>1018</td>\n",
       "      <td>FRAU GRUBER GREEN IS LORD 0.30</td>\n",
       "      <td>1.0</td>\n",
       "      <td>4.8</td>\n",
       "      <td>4.8</td>\n",
       "    </tr>\n",
       "    <tr>\n",
       "      <th>5</th>\n",
       "      <td>2018:03:01:17:16:09</td>\n",
       "      <td>1023</td>\n",
       "      <td>WILDBEER TEPACHE 0.30</td>\n",
       "      <td>1.0</td>\n",
       "      <td>5.8</td>\n",
       "      <td>5.8</td>\n",
       "    </tr>\n",
       "    <tr>\n",
       "      <th>...</th>\n",
       "      <td>...</td>\n",
       "      <td>...</td>\n",
       "      <td>...</td>\n",
       "      <td>...</td>\n",
       "      <td>...</td>\n",
       "      <td>...</td>\n",
       "    </tr>\n",
       "    <tr>\n",
       "      <th>180716</th>\n",
       "      <td>2020:03:12:22:12:24</td>\n",
       "      <td>1101</td>\n",
       "      <td>NEXT LEVEL DOUBLE TROUBLE 0.10</td>\n",
       "      <td>1.0</td>\n",
       "      <td>2.6</td>\n",
       "      <td>2.6</td>\n",
       "    </tr>\n",
       "    <tr>\n",
       "      <th>180717</th>\n",
       "      <td>2020:03:12:22:12:36</td>\n",
       "      <td>1607</td>\n",
       "      <td>THOMAS HENRY GINGERBEER</td>\n",
       "      <td>1.0</td>\n",
       "      <td>3.4</td>\n",
       "      <td>3.4</td>\n",
       "    </tr>\n",
       "    <tr>\n",
       "      <th>180718</th>\n",
       "      <td>2020:03:12:22:12:38</td>\n",
       "      <td>10219</td>\n",
       "      <td>NITTENAUER IPA</td>\n",
       "      <td>1.0</td>\n",
       "      <td>4.8</td>\n",
       "      <td>4.8</td>\n",
       "    </tr>\n",
       "    <tr>\n",
       "      <th>180719</th>\n",
       "      <td>2020:03:12:22:12:42</td>\n",
       "      <td>1013</td>\n",
       "      <td>BIEROL PADAWAN 0.30</td>\n",
       "      <td>2.0</td>\n",
       "      <td>3.8</td>\n",
       "      <td>7.6</td>\n",
       "    </tr>\n",
       "    <tr>\n",
       "      <th>180720</th>\n",
       "      <td>2020:03:12:22:12:57</td>\n",
       "      <td>10190</td>\n",
       "      <td>SAND MARIA MAGDALENA</td>\n",
       "      <td>1.0</td>\n",
       "      <td>6.9</td>\n",
       "      <td>6.9</td>\n",
       "    </tr>\n",
       "  </tbody>\n",
       "</table>\n",
       "<p>180720 rows × 6 columns</p>\n",
       "</div>"
      ],
      "text/plain": [
       "                 Datum/Zeit  Produkt#                     Produktname  Menge  \\\n",
       "1       2018:03:01:17:11:49      1155           PINZGA ZWICKL PITCHER    1.0   \n",
       "2       2018:03:01:17:11:50      1801        Flammkuchen Traditionell    1.0   \n",
       "3       2018:03:01:17:11:58      1803        Flammkuchen Vegetarisch     1.0   \n",
       "4       2018:03:01:17:16:06      1018  FRAU GRUBER GREEN IS LORD 0.30    1.0   \n",
       "5       2018:03:01:17:16:09      1023           WILDBEER TEPACHE 0.30    1.0   \n",
       "...                     ...       ...                             ...    ...   \n",
       "180716  2020:03:12:22:12:24      1101  NEXT LEVEL DOUBLE TROUBLE 0.10    1.0   \n",
       "180717  2020:03:12:22:12:36      1607         THOMAS HENRY GINGERBEER    1.0   \n",
       "180718  2020:03:12:22:12:38     10219                  NITTENAUER IPA    1.0   \n",
       "180719  2020:03:12:22:12:42      1013             BIEROL PADAWAN 0.30    2.0   \n",
       "180720  2020:03:12:22:12:57     10190            SAND MARIA MAGDALENA    1.0   \n",
       "\n",
       "        Einzelpreis  Gesamtpreis  \n",
       "1              13.2         13.2  \n",
       "2               6.8          6.8  \n",
       "3               6.8          6.8  \n",
       "4               4.8          4.8  \n",
       "5               5.8          5.8  \n",
       "...             ...          ...  \n",
       "180716          2.6          2.6  \n",
       "180717          3.4          3.4  \n",
       "180718          4.8          4.8  \n",
       "180719          3.8          7.6  \n",
       "180720          6.9          6.9  \n",
       "\n",
       "[180720 rows x 6 columns]"
      ]
     },
     "execution_count": 20,
     "metadata": {},
     "output_type": "execute_result"
    }
   ],
   "source": [
    "missing_values_dataset=missing_values_dataset.drop(0, axis=0)\n",
    "missing_values_dataset"
   ]
  },
  {
   "cell_type": "code",
   "execution_count": 30,
   "metadata": {},
   "outputs": [],
   "source": [
    "files_to_convert=[\"data\", \"records\", \"blog\"]\n",
    "for file_of_data in files_to_convert:\n",
    "    file_name=file_of_data+\".xlsx\"\n",
    "    df_to_convert = pd.read_excel(file_name)\n",
    "    new_file=\"../public/new\"+file_of_data+\".csv\"\n",
    "    df_to_convert.to_csv(new_file, index = False, sep=';', quoting=1)"
   ]
  },
  {
   "cell_type": "code",
   "execution_count": 8,
   "metadata": {},
   "outputs": [
    {
     "data": {
      "text/html": [
       "<div>\n",
       "<style scoped>\n",
       "    .dataframe tbody tr th:only-of-type {\n",
       "        vertical-align: middle;\n",
       "    }\n",
       "\n",
       "    .dataframe tbody tr th {\n",
       "        vertical-align: top;\n",
       "    }\n",
       "\n",
       "    .dataframe thead th {\n",
       "        text-align: right;\n",
       "    }\n",
       "</style>\n",
       "<table border=\"1\" class=\"dataframe\">\n",
       "  <thead>\n",
       "    <tr style=\"text-align: right;\">\n",
       "      <th></th>\n",
       "      <th>Author</th>\n",
       "      <th>Tags</th>\n",
       "      <th>Title</th>\n",
       "      <th>Entry</th>\n",
       "      <th>Date</th>\n",
       "      <th>Image</th>\n",
       "    </tr>\n",
       "  </thead>\n",
       "  <tbody>\n",
       "    <tr>\n",
       "      <th>0</th>\n",
       "      <td>Webmaster</td>\n",
       "      <td>Meeting, Online Activity</td>\n",
       "      <td>RIMS Set Theory Workshop 2022, 25-28 October</td>\n",
       "      <td>The RIMS Set Theory Workshop 2022 on New Devel...</td>\n",
       "      <td>October 5, 2022.</td>\n",
       "      <td>NaN</td>\n",
       "    </tr>\n",
       "    <tr>\n",
       "      <th>1</th>\n",
       "      <td>Webmaster</td>\n",
       "      <td>Seminars Activity</td>\n",
       "      <td>Baltic set theory seminar</td>\n",
       "      <td>\\n\\nThe Baltic set theory seminar begins on Oc...</td>\n",
       "      <td>September 27, 2022.</td>\n",
       "      <td>NaN</td>\n",
       "    </tr>\n",
       "    <tr>\n",
       "      <th>2</th>\n",
       "      <td>Webmaster</td>\n",
       "      <td>Announcements, Online Activities</td>\n",
       "      <td>CMU core model seminar, beginning next week</td>\n",
       "      <td>The online seminar will begin next Tuesday. Pl...</td>\n",
       "      <td>September 6, 2022.</td>\n",
       "      <td>NaN</td>\n",
       "    </tr>\n",
       "    <tr>\n",
       "      <th>3</th>\n",
       "      <td>Webmaster</td>\n",
       "      <td>Announcements, Online Activities</td>\n",
       "      <td>Stuk 8 in Leeds, Friday 16 September</td>\n",
       "      <td>This is a reminder that the next iteration of ...</td>\n",
       "      <td>September 6, 2022.</td>\n",
       "      <td>NaN</td>\n",
       "    </tr>\n",
       "    <tr>\n",
       "      <th>4</th>\n",
       "      <td>Webmaster</td>\n",
       "      <td>Job, Announcement</td>\n",
       "      <td>5th Hausdorff Medal 2022</td>\n",
       "      <td>he Hausdorff committee unanimously recommended...</td>\n",
       "      <td>September 1, 2022.</td>\n",
       "      <td>https://ests.files.wordpress.com/2022/09/tredi...</td>\n",
       "    </tr>\n",
       "  </tbody>\n",
       "</table>\n",
       "</div>"
      ],
      "text/plain": [
       "      Author                               Tags  \\\n",
       "0  Webmaster           Meeting, Online Activity   \n",
       "1  Webmaster                  Seminars Activity   \n",
       "2  Webmaster  Announcements, Online Activities    \n",
       "3  Webmaster  Announcements, Online Activities    \n",
       "4  Webmaster                  Job, Announcement   \n",
       "\n",
       "                                          Title  \\\n",
       "0  RIMS Set Theory Workshop 2022, 25-28 October   \n",
       "1                     Baltic set theory seminar   \n",
       "2   CMU core model seminar, beginning next week   \n",
       "3          Stuk 8 in Leeds, Friday 16 September   \n",
       "4                      5th Hausdorff Medal 2022   \n",
       "\n",
       "                                               Entry                 Date  \\\n",
       "0  The RIMS Set Theory Workshop 2022 on New Devel...     October 5, 2022.   \n",
       "1  \\n\\nThe Baltic set theory seminar begins on Oc...  September 27, 2022.   \n",
       "2  The online seminar will begin next Tuesday. Pl...   September 6, 2022.   \n",
       "3  This is a reminder that the next iteration of ...   September 6, 2022.   \n",
       "4  he Hausdorff committee unanimously recommended...   September 1, 2022.   \n",
       "\n",
       "                                               Image  \n",
       "0                                                NaN  \n",
       "1                                                NaN  \n",
       "2                                                NaN  \n",
       "3                                                NaN  \n",
       "4  https://ests.files.wordpress.com/2022/09/tredi...  "
      ]
     },
     "execution_count": 8,
     "metadata": {},
     "output_type": "execute_result"
    }
   ],
   "source": [
    "df_to_convert = pd.read_excel(\"blog.xlsx\")\n",
    "df_to_convert.head()"
   ]
  },
  {
   "cell_type": "code",
   "execution_count": 9,
   "metadata": {},
   "outputs": [],
   "source": [
    "df_to_convert.to_csv(name_export_file, index = False)"
   ]
  },
  {
   "cell_type": "code",
   "execution_count": null,
   "metadata": {},
   "outputs": [],
   "source": []
  }
 ],
 "metadata": {
  "kernelspec": {
   "display_name": "Python 3 (ipykernel)",
   "language": "python",
   "name": "python3"
  },
  "language_info": {
   "codemirror_mode": {
    "name": "ipython",
    "version": 3
   },
   "file_extension": ".py",
   "mimetype": "text/x-python",
   "name": "python",
   "nbconvert_exporter": "python",
   "pygments_lexer": "ipython3",
   "version": "3.9.9"
  }
 },
 "nbformat": 4,
 "nbformat_minor": 4
}
